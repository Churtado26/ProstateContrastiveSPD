{
 "cells": [
  {
   "cell_type": "code",
   "execution_count": 2,
   "metadata": {},
   "outputs": [],
   "source": [
    "import numpy as np\n",
    "import torch"
   ]
  },
  {
   "cell_type": "code",
   "execution_count": 6,
   "metadata": {},
   "outputs": [],
   "source": [
    "train_embeddings_path = '/data/ProstateContrastiveSPD/embeddings/fold_5/train/embeddings_train.pt'\n",
    "train_labels_path = '/data/ProstateContrastiveSPD/embeddings/fold_5/train/labels_train.pt'\n",
    "val_embeddings_path = '/data/ProstateContrastiveSPD/embeddings/fold_5/val/embeddings_val.pt'\n",
    "val_labels_path = '/data/ProstateContrastiveSPD/embeddings/fold_5/val/labels_val.pt'\n",
    "\n",
    "\n",
    "train_embeddings = torch.load(train_embeddings_path)\n",
    "train_labels = torch.load(train_labels_path)\n",
    "\n",
    "val_embeddings = torch.load(val_embeddings_path)\n",
    "val_labels = torch.load(val_labels_path)\n",
    "\n",
    "train_embeddings_np = train_embeddings.numpy()\n",
    "train_labels_np = train_labels.numpy()\n",
    "\n",
    "val_embeddings_np = val_embeddings.numpy()\n",
    "val_labels_np= val_labels.numpy()\n",
    "\n",
    "\n"
   ]
  },
  {
   "cell_type": "code",
   "execution_count": 10,
   "metadata": {},
   "outputs": [
    {
     "name": "stdout",
     "output_type": "stream",
     "text": [
      "(1043, 4560)\n",
      "(1043, 1)\n",
      "(252, 4560)\n",
      "(252, 1)\n"
     ]
    }
   ],
   "source": [
    "print(train_embeddings_np.shape)\n",
    "print(train_labels_np.shape)\n",
    "\n",
    "print(val_embeddings_np.shape)\n",
    "print(val_labels_np.shape)"
   ]
  },
  {
   "cell_type": "code",
   "execution_count": 21,
   "metadata": {},
   "outputs": [
    {
     "name": "stdout",
     "output_type": "stream",
     "text": [
      "Chamfer Distance: 29.32785415649414\n"
     ]
    }
   ],
   "source": [
    "import torch\n",
    "import numpy as np\n",
    "\n",
    "train_embeddings_path = '/data/ProstateContrastiveSPD/embeddings/fold_5/train/embeddings_train.pt'\n",
    "val_embeddings_path = '/data/ProstateContrastiveSPD/embeddings/fold_5/val/embeddings_val.pt'\n",
    "\n",
    "def load_embeddings(path):\n",
    "    return torch.load(path).numpy()\n",
    "\n",
    "A = load_embeddings(train_embeddings_path)\n",
    "B = load_embeddings(val_embeddings_path)\n",
    "\n",
    "def chamfer_distance(A, B):\n",
    "    A_to_B = np.mean([np.min(np.sum((B - a) ** 2, axis=1)) for a in A])\n",
    "    \n",
    "    B_to_A = np.mean([np.min(np.sum((A - b) ** 2, axis=1)) for b in B])\n",
    "    \n",
    "    return A_to_B + B_to_A\n",
    "\n",
    "distance = chamfer_distance(A, B)\n",
    "print(f'Chamfer Distance: {distance}')\n"
   ]
  },
  {
   "cell_type": "code",
   "execution_count": 1,
   "metadata": {},
   "outputs": [
    {
     "ename": "NameError",
     "evalue": "name 'torch' is not defined",
     "output_type": "error",
     "traceback": [
      "\u001b[0;31m---------------------------------------------------------------------------\u001b[0m",
      "\u001b[0;31mNameError\u001b[0m                                 Traceback (most recent call last)",
      "Cell \u001b[0;32mIn[1], line 6\u001b[0m\n\u001b[1;32m      3\u001b[0m train_labels_path \u001b[38;5;241m=\u001b[39m \u001b[38;5;124m'\u001b[39m\u001b[38;5;124m/data/ProstateContrastiveSPD/embeddings/fold_5/train/labels_train.pt\u001b[39m\u001b[38;5;124m'\u001b[39m\n\u001b[1;32m      4\u001b[0m val_labels_path \u001b[38;5;241m=\u001b[39m \u001b[38;5;124m'\u001b[39m\u001b[38;5;124m/data/ProstateContrastiveSPD/embeddings/fold_5/val/labels_val.pt\u001b[39m\u001b[38;5;124m'\u001b[39m\n\u001b[0;32m----> 6\u001b[0m embeddings \u001b[38;5;241m=\u001b[39m \u001b[43mtorch\u001b[49m\u001b[38;5;241m.\u001b[39mload(embeddings_path)\u001b[38;5;241m.\u001b[39mnumpy()\n\u001b[1;32m      7\u001b[0m labels \u001b[38;5;241m=\u001b[39m torch\u001b[38;5;241m.\u001b[39mload(labels_path)\u001b[38;5;241m.\u001b[39mnumpy()\n",
      "\u001b[0;31mNameError\u001b[0m: name 'torch' is not defined"
     ]
    }
   ],
   "source": [
    "train_embeddings_path = '/data/ProstateContrastiveSPD/embeddings/fold_5/train/embeddings_train.pt'\n",
    "val_embeddings_path = '/data/ProstateContrastiveSPD/embeddings/fold_5/val/embeddings_val.pt'\n",
    "train_labels_path = '/data/ProstateContrastiveSPD/embeddings/fold_5/train/labels_train.pt'\n",
    "val_labels_path = '/data/ProstateContrastiveSPD/embeddings/fold_5/val/labels_val.pt'\n",
    "\n",
    "embeddings = torch.load(embeddings_path).numpy()\n",
    "labels = torch.load(labels_path).numpy()\n"
   ]
  },
  {
   "cell_type": "markdown",
   "metadata": {},
   "source": [
    "# Chamfer distance con los vectores"
   ]
  },
  {
   "cell_type": "code",
   "execution_count": 25,
   "metadata": {},
   "outputs": [
    {
     "name": "stdout",
     "output_type": "stream",
     "text": [
      "Chamfer Distance (train_class_0_vs_train_class_1): 35.016605377197266\n",
      "Chamfer Distance (train_class_0_vs_val_class_1): 38.831703186035156\n",
      "Chamfer Distance (train_class_0_vs_val_class_0): 29.159626007080078\n",
      "Chamfer Distance (val_class_0_vs_val_class_1): 41.90660858154297\n",
      "Chamfer Distance (train_class_1_vs_val_class_1): 33.93451690673828\n"
     ]
    }
   ],
   "source": [
    "import torch\n",
    "import numpy as np\n",
    "\n",
    "# Cargar los embeddings y las etiquetas desde los archivos .pt\n",
    "train_embeddings_path = '/data/ProstateContrastiveSPD/embeddings/fold_5/train/embeddings_train.pt'\n",
    "val_embeddings_path = '/data/ProstateContrastiveSPD/embeddings/fold_5/val/embeddings_val.pt'\n",
    "train_labels_path = '/data/ProstateContrastiveSPD/embeddings/fold_5/train/labels_train.pt'\n",
    "val_labels_path = '/data/ProstateContrastiveSPD/embeddings/fold_5/val/labels_val.pt'\n",
    "\n",
    "# Función para cargar los datos de los archivos .pt\n",
    "def load_data(embeddings_path, labels_path):\n",
    "    embeddings = torch.load(embeddings_path).numpy()\n",
    "    labels = torch.load(labels_path).numpy()\n",
    "    return embeddings, labels\n",
    "\n",
    "# Función para calcular la Chamfer Distance según la fórmula proporcionada\n",
    "def chamfer_distance(A, B):\n",
    "    A_to_B = np.mean([np.min(np.sum((B - a) ** 2, axis=1)) for a in A])\n",
    "    B_to_A = np.mean([np.min(np.sum((A - b) ** 2, axis=1)) for b in B])\n",
    "    return A_to_B + B_to_A\n",
    "\n",
    "# Cargar los embeddings y las etiquetas\n",
    "train_embeddings, train_labels = load_data(train_embeddings_path, train_labels_path)\n",
    "val_embeddings, val_labels = load_data(val_embeddings_path, val_labels_path)\n",
    "\n",
    "# Aplanar las etiquetas para eliminar la dimensión extra\n",
    "train_labels = train_labels.flatten()\n",
    "val_labels = val_labels.flatten()\n",
    "\n",
    "# Filtrar los embeddings por clase\n",
    "train_class_0 = train_embeddings[train_labels == 0]\n",
    "train_class_1 = train_embeddings[train_labels == 1]\n",
    "val_class_0 = val_embeddings[val_labels == 0]\n",
    "val_class_1 = val_embeddings[val_labels == 1]\n",
    "\n",
    "# Calcular Chamfer Distance para los diferentes conjuntos\n",
    "distances = {\n",
    "    \"train_class_0_vs_train_class_1\": chamfer_distance(train_class_0, train_class_1),\n",
    "    \"train_class_0_vs_val_class_1\": chamfer_distance(train_class_0, val_class_1),\n",
    "    \"train_class_0_vs_val_class_0\": chamfer_distance(train_class_0, val_class_0),\n",
    "    \"val_class_0_vs_val_class_1\": chamfer_distance(val_class_0, val_class_1),\n",
    "    \"train_class_1_vs_val_class_1\": chamfer_distance(train_class_1, val_class_1)\n",
    "    \n",
    "}\n",
    "\n",
    "# Imprimir las distancias calculadas\n",
    "for key, value in distances.items():\n",
    "    print(f'Chamfer Distance ({key}): {value}')\n"
   ]
  },
  {
   "cell_type": "code",
   "execution_count": 26,
   "metadata": {},
   "outputs": [
    {
     "data": {
      "text/plain": [
       "33.93451690673828"
      ]
     },
     "execution_count": 26,
     "metadata": {},
     "output_type": "execute_result"
    }
   ],
   "source": []
  },
  {
   "cell_type": "markdown",
   "metadata": {},
   "source": [
    "# Riemannian distance"
   ]
  },
  {
   "cell_type": "code",
   "execution_count": 2,
   "metadata": {},
   "outputs": [
    {
     "name": "stdout",
     "output_type": "stream",
     "text": [
      "Usando el dispositivo: cuda:0\n"
     ]
    },
    {
     "ename": "KeyboardInterrupt",
     "evalue": "",
     "output_type": "error",
     "traceback": [
      "\u001b[0;31m---------------------------------------------------------------------------\u001b[0m",
      "\u001b[0;31mKeyboardInterrupt\u001b[0m                         Traceback (most recent call last)",
      "Cell \u001b[0;32mIn[2], line 57\u001b[0m\n\u001b[1;32m     53\u001b[0m val_class_1 \u001b[38;5;241m=\u001b[39m val_embeddings[val_labels \u001b[38;5;241m==\u001b[39m \u001b[38;5;241m1\u001b[39m]\n\u001b[1;32m     55\u001b[0m \u001b[38;5;66;03m# Calcular la Chamfer Distance usando distancia de Riemann para los diferentes conjuntos\u001b[39;00m\n\u001b[1;32m     56\u001b[0m distances \u001b[38;5;241m=\u001b[39m {\n\u001b[0;32m---> 57\u001b[0m     \u001b[38;5;124m\"\u001b[39m\u001b[38;5;124mtrain_class_0_vs_train_class_1\u001b[39m\u001b[38;5;124m\"\u001b[39m: \u001b[43mchamfer_distance_riemannian\u001b[49m\u001b[43m(\u001b[49m\u001b[43mtrain_class_0\u001b[49m\u001b[43m,\u001b[49m\u001b[43m \u001b[49m\u001b[43mtrain_class_1\u001b[49m\u001b[43m)\u001b[49m,\n\u001b[1;32m     58\u001b[0m     \u001b[38;5;124m\"\u001b[39m\u001b[38;5;124mtrain_class_0_vs_val_class_1\u001b[39m\u001b[38;5;124m\"\u001b[39m: chamfer_distance_riemannian(train_class_0, val_class_1),\n\u001b[1;32m     59\u001b[0m     \u001b[38;5;124m\"\u001b[39m\u001b[38;5;124mtrain_class_0_vs_val_class_0\u001b[39m\u001b[38;5;124m\"\u001b[39m: chamfer_distance_riemannian(train_class_0, val_class_0),\n\u001b[1;32m     60\u001b[0m     \u001b[38;5;124m\"\u001b[39m\u001b[38;5;124mval_class_0_vs_val_class_1\u001b[39m\u001b[38;5;124m\"\u001b[39m: chamfer_distance_riemannian(val_class_0, val_class_1),\n\u001b[1;32m     61\u001b[0m     \u001b[38;5;124m\"\u001b[39m\u001b[38;5;124mtrain_class_1_vs_val_class_1\u001b[39m\u001b[38;5;124m\"\u001b[39m: chamfer_distance_riemannian(train_class_1, val_class_1)\n\u001b[1;32m     62\u001b[0m }\n\u001b[1;32m     64\u001b[0m \u001b[38;5;66;03m# Imprimir las distancias calculadas\u001b[39;00m\n\u001b[1;32m     65\u001b[0m \u001b[38;5;28;01mfor\u001b[39;00m key, value \u001b[38;5;129;01min\u001b[39;00m distances\u001b[38;5;241m.\u001b[39mitems():\n",
      "Cell \u001b[0;32mIn[2], line 37\u001b[0m, in \u001b[0;36mchamfer_distance_riemannian\u001b[0;34m(S1, S2)\u001b[0m\n\u001b[1;32m     36\u001b[0m \u001b[38;5;28;01mdef\u001b[39;00m \u001b[38;5;21mchamfer_distance_riemannian\u001b[39m(S1, S2):\n\u001b[0;32m---> 37\u001b[0m     S1_to_S2 \u001b[38;5;241m=\u001b[39m np\u001b[38;5;241m.\u001b[39mmean([np\u001b[38;5;241m.\u001b[39mmin([riemannian_distance(x1, x2) \u001b[38;5;28;01mfor\u001b[39;00m x2 \u001b[38;5;129;01min\u001b[39;00m S2]) \u001b[38;5;28;01mfor\u001b[39;00m x1 \u001b[38;5;129;01min\u001b[39;00m S1])\n\u001b[1;32m     38\u001b[0m     S2_to_S1 \u001b[38;5;241m=\u001b[39m np\u001b[38;5;241m.\u001b[39mmean([np\u001b[38;5;241m.\u001b[39mmin([riemannian_distance(x2, x1) \u001b[38;5;28;01mfor\u001b[39;00m x1 \u001b[38;5;129;01min\u001b[39;00m S1]) \u001b[38;5;28;01mfor\u001b[39;00m x2 \u001b[38;5;129;01min\u001b[39;00m S2])\n\u001b[1;32m     39\u001b[0m     \u001b[38;5;28;01mreturn\u001b[39;00m S1_to_S2 \u001b[38;5;241m+\u001b[39m S2_to_S1\n",
      "Cell \u001b[0;32mIn[2], line 37\u001b[0m, in \u001b[0;36m<listcomp>\u001b[0;34m(.0)\u001b[0m\n\u001b[1;32m     36\u001b[0m \u001b[38;5;28;01mdef\u001b[39;00m \u001b[38;5;21mchamfer_distance_riemannian\u001b[39m(S1, S2):\n\u001b[0;32m---> 37\u001b[0m     S1_to_S2 \u001b[38;5;241m=\u001b[39m np\u001b[38;5;241m.\u001b[39mmean([np\u001b[38;5;241m.\u001b[39mmin([riemannian_distance(x1, x2) \u001b[38;5;28;01mfor\u001b[39;00m x2 \u001b[38;5;129;01min\u001b[39;00m S2]) \u001b[38;5;28;01mfor\u001b[39;00m x1 \u001b[38;5;129;01min\u001b[39;00m S1])\n\u001b[1;32m     38\u001b[0m     S2_to_S1 \u001b[38;5;241m=\u001b[39m np\u001b[38;5;241m.\u001b[39mmean([np\u001b[38;5;241m.\u001b[39mmin([riemannian_distance(x2, x1) \u001b[38;5;28;01mfor\u001b[39;00m x1 \u001b[38;5;129;01min\u001b[39;00m S1]) \u001b[38;5;28;01mfor\u001b[39;00m x2 \u001b[38;5;129;01min\u001b[39;00m S2])\n\u001b[1;32m     39\u001b[0m     \u001b[38;5;28;01mreturn\u001b[39;00m S1_to_S2 \u001b[38;5;241m+\u001b[39m S2_to_S1\n",
      "Cell \u001b[0;32mIn[2], line 37\u001b[0m, in \u001b[0;36m<listcomp>\u001b[0;34m(.0)\u001b[0m\n\u001b[1;32m     36\u001b[0m \u001b[38;5;28;01mdef\u001b[39;00m \u001b[38;5;21mchamfer_distance_riemannian\u001b[39m(S1, S2):\n\u001b[0;32m---> 37\u001b[0m     S1_to_S2 \u001b[38;5;241m=\u001b[39m np\u001b[38;5;241m.\u001b[39mmean([np\u001b[38;5;241m.\u001b[39mmin([\u001b[43mriemannian_distance\u001b[49m\u001b[43m(\u001b[49m\u001b[43mx1\u001b[49m\u001b[43m,\u001b[49m\u001b[43m \u001b[49m\u001b[43mx2\u001b[49m\u001b[43m)\u001b[49m \u001b[38;5;28;01mfor\u001b[39;00m x2 \u001b[38;5;129;01min\u001b[39;00m S2]) \u001b[38;5;28;01mfor\u001b[39;00m x1 \u001b[38;5;129;01min\u001b[39;00m S1])\n\u001b[1;32m     38\u001b[0m     S2_to_S1 \u001b[38;5;241m=\u001b[39m np\u001b[38;5;241m.\u001b[39mmean([np\u001b[38;5;241m.\u001b[39mmin([riemannian_distance(x2, x1) \u001b[38;5;28;01mfor\u001b[39;00m x1 \u001b[38;5;129;01min\u001b[39;00m S1]) \u001b[38;5;28;01mfor\u001b[39;00m x2 \u001b[38;5;129;01min\u001b[39;00m S2])\n\u001b[1;32m     39\u001b[0m     \u001b[38;5;28;01mreturn\u001b[39;00m S1_to_S2 \u001b[38;5;241m+\u001b[39m S2_to_S1\n",
      "Cell \u001b[0;32mIn[2], line 29\u001b[0m, in \u001b[0;36mriemannian_distance\u001b[0;34m(A, B)\u001b[0m\n\u001b[1;32m     28\u001b[0m \u001b[38;5;28;01mdef\u001b[39;00m \u001b[38;5;21mriemannian_distance\u001b[39m(A, B):\n\u001b[0;32m---> 29\u001b[0m     sqrt_A \u001b[38;5;241m=\u001b[39m \u001b[43msqrtm\u001b[49m\u001b[43m(\u001b[49m\u001b[43mA\u001b[49m\u001b[43m)\u001b[49m\n\u001b[1;32m     30\u001b[0m     inv_sqrt_A \u001b[38;5;241m=\u001b[39m np\u001b[38;5;241m.\u001b[39mlinalg\u001b[38;5;241m.\u001b[39minv(sqrt_A)\n\u001b[1;32m     31\u001b[0m     C \u001b[38;5;241m=\u001b[39m inv_sqrt_A \u001b[38;5;241m@\u001b[39m B \u001b[38;5;241m@\u001b[39m inv_sqrt_A\n",
      "File \u001b[0;32m/opt/conda/lib/python3.10/site-packages/scipy/linalg/_matfuncs_sqrtm.py:174\u001b[0m, in \u001b[0;36msqrtm\u001b[0;34m(A, disp, blocksize)\u001b[0m\n\u001b[1;32m    172\u001b[0m keep_it_real \u001b[38;5;241m=\u001b[39m np\u001b[38;5;241m.\u001b[39misrealobj(A)\n\u001b[1;32m    173\u001b[0m \u001b[38;5;28;01mif\u001b[39;00m keep_it_real:\n\u001b[0;32m--> 174\u001b[0m     T, Z \u001b[38;5;241m=\u001b[39m \u001b[43mschur\u001b[49m\u001b[43m(\u001b[49m\u001b[43mA\u001b[49m\u001b[43m)\u001b[49m\n\u001b[1;32m    175\u001b[0m     d0 \u001b[38;5;241m=\u001b[39m np\u001b[38;5;241m.\u001b[39mdiagonal(T)\n\u001b[1;32m    176\u001b[0m     d1 \u001b[38;5;241m=\u001b[39m np\u001b[38;5;241m.\u001b[39mdiagonal(T, \u001b[38;5;241m-\u001b[39m\u001b[38;5;241m1\u001b[39m)\n",
      "File \u001b[0;32m/opt/conda/lib/python3.10/site-packages/scipy/linalg/_decomp_schur.py:176\u001b[0m, in \u001b[0;36mschur\u001b[0;34m(a, output, lwork, overwrite_a, sort, check_finite)\u001b[0m\n\u001b[1;32m    172\u001b[0m     \u001b[38;5;28;01melse\u001b[39;00m:\n\u001b[1;32m    173\u001b[0m         \u001b[38;5;28;01mraise\u001b[39;00m \u001b[38;5;167;01mValueError\u001b[39;00m(\u001b[38;5;124m\"\u001b[39m\u001b[38;5;124m'\u001b[39m\u001b[38;5;124msort\u001b[39m\u001b[38;5;124m'\u001b[39m\u001b[38;5;124m parameter must either be \u001b[39m\u001b[38;5;124m'\u001b[39m\u001b[38;5;124mNone\u001b[39m\u001b[38;5;124m'\u001b[39m\u001b[38;5;124m, or a \u001b[39m\u001b[38;5;124m\"\u001b[39m\n\u001b[1;32m    174\u001b[0m                          \u001b[38;5;124m\"\u001b[39m\u001b[38;5;124mcallable, or one of (\u001b[39m\u001b[38;5;124m'\u001b[39m\u001b[38;5;124mlhp\u001b[39m\u001b[38;5;124m'\u001b[39m\u001b[38;5;124m,\u001b[39m\u001b[38;5;124m'\u001b[39m\u001b[38;5;124mrhp\u001b[39m\u001b[38;5;124m'\u001b[39m\u001b[38;5;124m,\u001b[39m\u001b[38;5;124m'\u001b[39m\u001b[38;5;124miuc\u001b[39m\u001b[38;5;124m'\u001b[39m\u001b[38;5;124m,\u001b[39m\u001b[38;5;124m'\u001b[39m\u001b[38;5;124mouc\u001b[39m\u001b[38;5;124m'\u001b[39m\u001b[38;5;124m)\u001b[39m\u001b[38;5;124m\"\u001b[39m)\n\u001b[0;32m--> 176\u001b[0m result \u001b[38;5;241m=\u001b[39m \u001b[43mgees\u001b[49m\u001b[43m(\u001b[49m\u001b[43msfunction\u001b[49m\u001b[43m,\u001b[49m\u001b[43m \u001b[49m\u001b[43ma1\u001b[49m\u001b[43m,\u001b[49m\u001b[43m \u001b[49m\u001b[43mlwork\u001b[49m\u001b[38;5;241;43m=\u001b[39;49m\u001b[43mlwork\u001b[49m\u001b[43m,\u001b[49m\u001b[43m \u001b[49m\u001b[43moverwrite_a\u001b[49m\u001b[38;5;241;43m=\u001b[39;49m\u001b[43moverwrite_a\u001b[49m\u001b[43m,\u001b[49m\n\u001b[1;32m    177\u001b[0m \u001b[43m              \u001b[49m\u001b[43msort_t\u001b[49m\u001b[38;5;241;43m=\u001b[39;49m\u001b[43msort_t\u001b[49m\u001b[43m)\u001b[49m\n\u001b[1;32m    179\u001b[0m info \u001b[38;5;241m=\u001b[39m result[\u001b[38;5;241m-\u001b[39m\u001b[38;5;241m1\u001b[39m]\n\u001b[1;32m    180\u001b[0m \u001b[38;5;28;01mif\u001b[39;00m info \u001b[38;5;241m<\u001b[39m \u001b[38;5;241m0\u001b[39m:\n",
      "\u001b[0;31mKeyboardInterrupt\u001b[0m: "
     ]
    }
   ],
   "source": [
    "import os\n",
    "import numpy as np\n",
    "from scipy.linalg import sqrtm, logm, inv, norm\n",
    "import torch\n",
    "\n",
    "# Configuración de la GPU\n",
    "os.environ[\"CUDA_DEVICE_ORDER\"] = \"PCI_BUS_ID\"\n",
    "os.environ[\"CUDA_VISIBLE_DEVICES\"] = \"0\"\n",
    "os.environ[\"OMP_NUM_THREADS\"] = str(1)\n",
    "\n",
    "# Rutas de los archivos\n",
    "train_embeddings_path = '/data/ProstateContrastiveSPD/embeddingsSPD/fold_5/train/embeddingsSPD_train.pt'\n",
    "val_embeddings_path = '/data/ProstateContrastiveSPD/embeddingsSPD/fold_5/val/embeddingsSPD_val.pt'\n",
    "train_labels_path = '/data/ProstateContrastiveSPD/embeddingsSPD/fold_5/train/labelsSPD_train.pt'\n",
    "val_labels_path = '/data/ProstateContrastiveSPD/embeddingsSPD/fold_5/val/labelsSPD_val.pt'\n",
    "\n",
    "# Verificar el dispositivo\n",
    "device = torch.device('cuda:0' if torch.cuda.is_available() else 'cpu')\n",
    "print(f'Usando el dispositivo: {device}')\n",
    "\n",
    "# Función para cargar los datos de los archivos .pt\n",
    "def load_data(embeddings_path, labels_path):\n",
    "    embeddings = torch.load(embeddings_path).numpy()\n",
    "    labels = torch.load(labels_path).numpy()\n",
    "    return embeddings, labels\n",
    "\n",
    "# Función para calcular la distancia de Riemann entre dos matrices SPD\n",
    "def riemannian_distance(A, B):\n",
    "    sqrt_A = sqrtm(A)\n",
    "    inv_sqrt_A = np.linalg.inv(sqrt_A)\n",
    "    C = inv_sqrt_A @ B @ inv_sqrt_A\n",
    "    log_C = logm(C)\n",
    "    return norm(log_C, 'fro')\n",
    "\n",
    "# Función para calcular la Chamfer Distance usando distancia de Riemann\n",
    "def chamfer_distance_riemannian(S1, S2):\n",
    "    S1_to_S2 = np.mean([np.min([riemannian_distance(x1, x2) for x2 in S2]) for x1 in S1])\n",
    "    S2_to_S1 = np.mean([np.min([riemannian_distance(x2, x1) for x1 in S1]) for x2 in S2])\n",
    "    return S1_to_S2 + S2_to_S1\n",
    "\n",
    "# Cargar los embeddings y las etiquetas\n",
    "train_embeddings, train_labels = load_data(train_embeddings_path, train_labels_path)\n",
    "val_embeddings, val_labels = load_data(val_embeddings_path, val_labels_path)\n",
    "\n",
    "# Aplanar las etiquetas para eliminar la dimensión extra\n",
    "train_labels = train_labels.flatten()\n",
    "val_labels = val_labels.flatten()\n",
    "\n",
    "# Filtrar los embeddings por clase\n",
    "train_class_0 = train_embeddings[train_labels == 0]\n",
    "train_class_1 = train_embeddings[train_labels == 1]\n",
    "val_class_0 = val_embeddings[val_labels == 0]\n",
    "val_class_1 = val_embeddings[val_labels == 1]\n",
    "\n",
    "# Calcular la Chamfer Distance usando distancia de Riemann para los diferentes conjuntos\n",
    "distances = {\n",
    "    \"train_class_0_vs_train_class_1\": chamfer_distance_riemannian(train_class_0, train_class_1),\n",
    "    \"train_class_0_vs_val_class_1\": chamfer_distance_riemannian(train_class_0, val_class_1),\n",
    "    \"train_class_0_vs_val_class_0\": chamfer_distance_riemannian(train_class_0, val_class_0),\n",
    "    \"val_class_0_vs_val_class_1\": chamfer_distance_riemannian(val_class_0, val_class_1),\n",
    "    \"train_class_1_vs_val_class_1\": chamfer_distance_riemannian(train_class_1, val_class_1)\n",
    "}\n",
    "\n",
    "# Imprimir las distancias calculadas\n",
    "for key, value in distances.items():\n",
    "    print(f'Riemannian Chamfer Distance ({key}): {value}')\n"
   ]
  },
  {
   "cell_type": "markdown",
   "metadata": {},
   "source": [
    "# Log-Euclidean metric"
   ]
  },
  {
   "cell_type": "code",
   "execution_count": null,
   "metadata": {},
   "outputs": [],
   "source": []
  },
  {
   "cell_type": "code",
   "execution_count": 7,
   "metadata": {},
   "outputs": [
    {
     "name": "stdout",
     "output_type": "stream",
     "text": [
      "Usando el dispositivo: cuda:0\n",
      "Log-Euclidean Chamfer Distance (train_class_0_vs_train_class_1): 12.148919334674682\n",
      "Log-Euclidean Chamfer Distance (train_class_0_vs_val_class_1): 12.871937769008152\n",
      "Log-Euclidean Chamfer Distance (train_class_0_vs_val_class_0): 11.087840384821785\n",
      "Log-Euclidean Chamfer Distance (val_class_0_vs_val_class_1): 13.360884936807714\n",
      "Log-Euclidean Chamfer Distance (train_class_1_vs_val_class_1): 11.975105139604086\n"
     ]
    }
   ],
   "source": [
    "import os\n",
    "import numpy as np\n",
    "import torch\n",
    "\n",
    "os.environ[\"CUDA_DEVICE_ORDER\"] = \"PCI_BUS_ID\"\n",
    "os.environ[\"CUDA_VISIBLE_DEVICES\"] = \"0\"\n",
    "os.environ[\"OMP_NUM_THREADS\"] = str(1)\n",
    "\n",
    "train_embeddings_path = '/data/ProstateContrastiveSPD/embeddingsSPD/fold_5/train/embeddingsSPD_train.pt'\n",
    "val_embeddings_path = '/data/ProstateContrastiveSPD/embeddingsSPD/fold_5/val/embeddingsSPD_val.pt'\n",
    "train_labels_path = '/data/ProstateContrastiveSPD/embeddingsSPD/fold_5/train/labelsSPD_train.pt'\n",
    "val_labels_path = '/data/ProstateContrastiveSPD/embeddingsSPD/fold_5/val/labelsSPD_val.pt'\n",
    "\n",
    "device = torch.device('cuda:0' if torch.cuda.is_available() else 'cpu')\n",
    "print(f'Usando el dispositivo: {device}')\n",
    "\n",
    "# Función para cargar los datos de los archivos .pt\n",
    "def load_data(embeddings_path, labels_path):\n",
    "    embeddings = torch.load(embeddings_path).numpy()\n",
    "    labels = torch.load(labels_path).numpy()\n",
    "    return embeddings, labels\n",
    "\n",
    "# Función para calcular la distancia Log-Euclidean entre dos matrices SPD\n",
    "def log_euclidean_distance(A, B):\n",
    "    # Descomposición espectral\n",
    "    eigvals_A, eigvecs_A = np.linalg.eigh(A)\n",
    "    eigvals_B, eigvecs_B = np.linalg.eigh(B)\n",
    "    \n",
    "    # Calcular el logaritmo de los autovalores\n",
    "    log_eigvals_A = np.diag(np.log(eigvals_A))\n",
    "    log_eigvals_B = np.diag(np.log(eigvals_B))\n",
    "    \n",
    "    # Reconstruir las matrices logarítmicas\n",
    "    log_A = eigvecs_A @ log_eigvals_A @ eigvecs_A.T\n",
    "    log_B = eigvecs_B @ log_eigvals_B @ eigvecs_B.T\n",
    "    \n",
    "    # Calcular la norma de la diferencia\n",
    "    return np.linalg.norm(log_A - log_B)\n",
    "\n",
    "# Función para calcular la Chamfer Distance usando Log-Euclidean Metric\n",
    "def chamfer_distance_log_euclidean(S1, S2):\n",
    "    S1_to_S2 = np.mean([np.min([log_euclidean_distance(x1, x2) for x2 in S2]) for x1 in S1])\n",
    "    S2_to_S1 = np.mean([np.min([log_euclidean_distance(x2, x1) for x1 in S1]) for x2 in S2])\n",
    "    return S1_to_S2 + S2_to_S1\n",
    "\n",
    "# Cargar los embeddings y las etiquetas\n",
    "train_embeddings, train_labels = load_data(train_embeddings_path, train_labels_path)\n",
    "val_embeddings, val_labels = load_data(val_embeddings_path, val_labels_path)\n",
    "\n",
    "# Aplanar las etiquetas para eliminar la dimensión extra\n",
    "train_labels = train_labels.flatten()\n",
    "val_labels = val_labels.flatten()\n",
    "\n",
    "# Filtrar los embeddings por clase\n",
    "train_class_0 = train_embeddings[train_labels == 0]\n",
    "train_class_1 = train_embeddings[train_labels == 1]\n",
    "val_class_0 = val_embeddings[val_labels == 0]\n",
    "val_class_1 = val_embeddings[val_labels == 1]\n",
    "\n",
    "# Calcular la Chamfer Distance usando Log-Euclidean Metric para los diferentes conjuntos\n",
    "distances = {\n",
    "    \"train_class_0_vs_train_class_1\": chamfer_distance_log_euclidean(train_class_0, train_class_1),\n",
    "    \"train_class_0_vs_val_class_1\": chamfer_distance_log_euclidean(train_class_0, val_class_1),\n",
    "    \"train_class_0_vs_val_class_0\": chamfer_distance_log_euclidean(train_class_0, val_class_0),\n",
    "    \"val_class_0_vs_val_class_1\": chamfer_distance_log_euclidean(val_class_0, val_class_1),\n",
    "    \"train_class_1_vs_val_class_1\": chamfer_distance_log_euclidean(train_class_1, val_class_1)\n",
    "}\n",
    "\n",
    "# Imprimir las distancias calculadas\n",
    "for key, value in distances.items():\n",
    "    print(f'Log-Euclidean Chamfer Distance ({key}): {value}')\n"
   ]
  }
 ],
 "metadata": {
  "kernelspec": {
   "display_name": "base",
   "language": "python",
   "name": "python3"
  },
  "language_info": {
   "codemirror_mode": {
    "name": "ipython",
    "version": 3
   },
   "file_extension": ".py",
   "mimetype": "text/x-python",
   "name": "python",
   "nbconvert_exporter": "python",
   "pygments_lexer": "ipython3",
   "version": "3.10.9"
  }
 },
 "nbformat": 4,
 "nbformat_minor": 2
}
