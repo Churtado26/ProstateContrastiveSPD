{
 "cells": [
  {
   "cell_type": "code",
   "execution_count": 1,
   "metadata": {},
   "outputs": [
    {
     "name": "stderr",
     "output_type": "stream",
     "text": [
      "/opt/conda/lib/python3.10/site-packages/torch/cuda/__init__.py:107: UserWarning: CUDA initialization: Unexpected error from cudaGetDeviceCount(). Did you run some cuda functions before calling NumCudaDevices() that might have already set an error? Error 101: invalid device ordinal (Triggered internally at /opt/conda/conda-bld/pytorch_1678411187366/work/c10/cuda/CUDAFunctions.cpp:109.)\n",
      "  return torch._C._cuda_getDeviceCount() > 0\n"
     ]
    }
   ],
   "source": [
    "import torch\n",
    "import os\n",
    "import numpy as np\n",
    "import matplotlib.pyplot as plt\n",
    "import torch.nn as nn\n",
    "import torch.optim as optim\n",
    "import json\n",
    "\n",
    "\n",
    "\n",
    "from sklearn.linear_model import LogisticRegression\n",
    "from sklearn.preprocessing import StandardScaler\n",
    "from sklearn.pipeline import make_pipeline\n",
    "from sklearn.metrics import accuracy_score, roc_auc_score, precision_score, recall_score\n",
    "from sklearn.manifold import TSNE\n",
    "from torch.utils.data import DataLoader, TensorDataset\n",
    "from sklearn.metrics import accuracy_score, roc_auc_score, f1_score\n",
    "from spdnetwork.optimizers import  MixOptimizer \n",
    "from spdnetwork.nn import LogEig\n",
    "from Utils import get_fold_of_data\n",
    "from DatasetManagement import DatasetManagement\n",
    "from Models import   Contrastive_CB3\n",
    "\n",
    "device = 'cuda' if torch.cuda.is_available() else 'cpu'\n",
    "\n",
    "%load_ext autoreload\n",
    "%autoreload 2"
   ]
  },
  {
   "cell_type": "code",
   "execution_count": 2,
   "metadata": {},
   "outputs": [
    {
     "name": "stdout",
     "output_type": "stream",
     "text": [
      "torch.Size([1035, 4560])\n",
      "torch.Size([1035, 1])\n",
      "\n",
      "torch.Size([260, 4560])\n",
      "torch.Size([260, 1])\n"
     ]
    }
   ],
   "source": [
    "i=1\n",
    "\n",
    "\n",
    "train_embeddings_path = f'/data/ProstateContrastiveSPD/embeddingsTriplet//fold_{i}/train/embeddings_train.pt'\n",
    "train_labels_path = f'/data/ProstateContrastiveSPD/embeddingsTriplet//fold_{i}/train/labels_train.pt'\n",
    "\n",
    "train_embeddings = torch.load(train_embeddings_path)\n",
    "train_labels = torch.load(train_labels_path)\n",
    "\n",
    "val_embeddings_path = f'/data/ProstateContrastiveSPD/embeddings/fold_{i}/val/embeddings_val.pt'\n",
    "val_labels_path = f'/data/ProstateContrastiveSPD/embeddings/fold_{i}/val/labels_val.pt'\n",
    "\n",
    "val_embeddings = torch.load(val_embeddings_path)\n",
    "val_labels = torch.load(val_labels_path)\n",
    "\n",
    "\n",
    "\n",
    "print(train_embeddings.shape)\n",
    "print(train_labels.shape)\n",
    "print('')\n",
    "print(val_embeddings.shape)\n",
    "print(val_labels.shape)\n",
    "\n"
   ]
  },
  {
   "cell_type": "markdown",
   "metadata": {},
   "source": [
    "# Logistic Regression"
   ]
  },
  {
   "cell_type": "code",
   "execution_count": 8,
   "metadata": {},
   "outputs": [
    {
     "name": "stderr",
     "output_type": "stream",
     "text": [
      "/opt/conda/lib/python3.10/site-packages/sklearn/utils/validation.py:1339: DataConversionWarning: A column-vector y was passed when a 1d array was expected. Please change the shape of y to (n_samples, ), for example using ravel().\n",
      "  y = column_or_1d(y, warn=True)\n",
      "/opt/conda/lib/python3.10/site-packages/sklearn/utils/validation.py:1339: DataConversionWarning: A column-vector y was passed when a 1d array was expected. Please change the shape of y to (n_samples, ), for example using ravel().\n",
      "  y = column_or_1d(y, warn=True)\n",
      "/opt/conda/lib/python3.10/site-packages/sklearn/utils/validation.py:1339: DataConversionWarning: A column-vector y was passed when a 1d array was expected. Please change the shape of y to (n_samples, ), for example using ravel().\n",
      "  y = column_or_1d(y, warn=True)\n",
      "/opt/conda/lib/python3.10/site-packages/sklearn/utils/validation.py:1339: DataConversionWarning: A column-vector y was passed when a 1d array was expected. Please change the shape of y to (n_samples, ), for example using ravel().\n",
      "  y = column_or_1d(y, warn=True)\n",
      "/opt/conda/lib/python3.10/site-packages/sklearn/utils/validation.py:1339: DataConversionWarning: A column-vector y was passed when a 1d array was expected. Please change the shape of y to (n_samples, ), for example using ravel().\n",
      "  y = column_or_1d(y, warn=True)\n",
      "/opt/conda/lib/python3.10/site-packages/sklearn/utils/validation.py:1339: DataConversionWarning: A column-vector y was passed when a 1d array was expected. Please change the shape of y to (n_samples, ), for example using ravel().\n",
      "  y = column_or_1d(y, warn=True)\n",
      "/opt/conda/lib/python3.10/site-packages/sklearn/utils/validation.py:1339: DataConversionWarning: A column-vector y was passed when a 1d array was expected. Please change the shape of y to (n_samples, ), for example using ravel().\n",
      "  y = column_or_1d(y, warn=True)\n",
      "/opt/conda/lib/python3.10/site-packages/sklearn/utils/validation.py:1339: DataConversionWarning: A column-vector y was passed when a 1d array was expected. Please change the shape of y to (n_samples, ), for example using ravel().\n",
      "  y = column_or_1d(y, warn=True)\n",
      "/opt/conda/lib/python3.10/site-packages/sklearn/utils/validation.py:1339: DataConversionWarning: A column-vector y was passed when a 1d array was expected. Please change the shape of y to (n_samples, ), for example using ravel().\n",
      "  y = column_or_1d(y, warn=True)\n",
      "/opt/conda/lib/python3.10/site-packages/sklearn/utils/validation.py:1339: DataConversionWarning: A column-vector y was passed when a 1d array was expected. Please change the shape of y to (n_samples, ), for example using ravel().\n",
      "  y = column_or_1d(y, warn=True)\n",
      "/opt/conda/lib/python3.10/site-packages/sklearn/utils/validation.py:1339: DataConversionWarning: A column-vector y was passed when a 1d array was expected. Please change the shape of y to (n_samples, ), for example using ravel().\n",
      "  y = column_or_1d(y, warn=True)\n",
      "/opt/conda/lib/python3.10/site-packages/sklearn/utils/validation.py:1339: DataConversionWarning: A column-vector y was passed when a 1d array was expected. Please change the shape of y to (n_samples, ), for example using ravel().\n",
      "  y = column_or_1d(y, warn=True)\n",
      "/opt/conda/lib/python3.10/site-packages/sklearn/utils/validation.py:1339: DataConversionWarning: A column-vector y was passed when a 1d array was expected. Please change the shape of y to (n_samples, ), for example using ravel().\n",
      "  y = column_or_1d(y, warn=True)\n",
      "/opt/conda/lib/python3.10/site-packages/sklearn/utils/validation.py:1339: DataConversionWarning: A column-vector y was passed when a 1d array was expected. Please change the shape of y to (n_samples, ), for example using ravel().\n",
      "  y = column_or_1d(y, warn=True)\n",
      "/opt/conda/lib/python3.10/site-packages/sklearn/utils/validation.py:1339: DataConversionWarning: A column-vector y was passed when a 1d array was expected. Please change the shape of y to (n_samples, ), for example using ravel().\n",
      "  y = column_or_1d(y, warn=True)\n",
      "/opt/conda/lib/python3.10/site-packages/sklearn/utils/validation.py:1339: DataConversionWarning: A column-vector y was passed when a 1d array was expected. Please change the shape of y to (n_samples, ), for example using ravel().\n",
      "  y = column_or_1d(y, warn=True)\n",
      "/opt/conda/lib/python3.10/site-packages/sklearn/utils/validation.py:1339: DataConversionWarning: A column-vector y was passed when a 1d array was expected. Please change the shape of y to (n_samples, ), for example using ravel().\n",
      "  y = column_or_1d(y, warn=True)\n",
      "/opt/conda/lib/python3.10/site-packages/sklearn/utils/validation.py:1339: DataConversionWarning: A column-vector y was passed when a 1d array was expected. Please change the shape of y to (n_samples, ), for example using ravel().\n",
      "  y = column_or_1d(y, warn=True)\n",
      "/opt/conda/lib/python3.10/site-packages/sklearn/utils/validation.py:1339: DataConversionWarning: A column-vector y was passed when a 1d array was expected. Please change the shape of y to (n_samples, ), for example using ravel().\n",
      "  y = column_or_1d(y, warn=True)\n",
      "/opt/conda/lib/python3.10/site-packages/sklearn/utils/validation.py:1339: DataConversionWarning: A column-vector y was passed when a 1d array was expected. Please change the shape of y to (n_samples, ), for example using ravel().\n",
      "  y = column_or_1d(y, warn=True)\n"
     ]
    },
    {
     "name": "stdout",
     "output_type": "stream",
     "text": [
      "\n",
      "Porcentaje de entrenamiento: 20%\n",
      "Promedio de AUC-ROC: 0.8931\n",
      "Desviación estándar de AUC-ROC: 0.0159\n",
      "Promedio de Accuracy: 0.9011\n",
      "Desviación estándar de Accuracy: 0.0038\n",
      "Promedio de AUC-PR: 0.7479\n",
      "Desviación estándar de AUC-PR: 0.0426\n",
      "\n",
      "Porcentaje de entrenamiento: 40%\n",
      "Promedio de AUC-ROC: 0.9061\n",
      "Desviación estándar de AUC-ROC: 0.0208\n",
      "Promedio de Accuracy: 0.9066\n",
      "Desviación estándar de Accuracy: 0.0048\n",
      "Promedio de AUC-PR: 0.7647\n",
      "Desviación estándar de AUC-PR: 0.0182\n",
      "\n",
      "Porcentaje de entrenamiento: 60%\n",
      "Promedio de AUC-ROC: 0.9184\n",
      "Desviación estándar de AUC-ROC: 0.0196\n",
      "Promedio de Accuracy: 0.9237\n",
      "Desviación estándar de Accuracy: 0.0155\n",
      "Promedio de AUC-PR: 0.7998\n",
      "Desviación estándar de AUC-PR: 0.0303\n",
      "\n",
      "Porcentaje de entrenamiento: 80%\n",
      "Promedio de AUC-ROC: 0.9206\n",
      "Desviación estándar de AUC-ROC: 0.0150\n",
      "Promedio de Accuracy: 0.9150\n",
      "Desviación estándar de Accuracy: 0.0035\n",
      "Promedio de AUC-PR: 0.8078\n",
      "Desviación estándar de AUC-PR: 0.0284\n"
     ]
    }
   ],
   "source": [
    "import torch\n",
    "import numpy as np\n",
    "from sklearn.linear_model import LogisticRegression\n",
    "from sklearn.preprocessing import StandardScaler\n",
    "from sklearn.pipeline import make_pipeline\n",
    "from sklearn.metrics import accuracy_score, roc_auc_score, precision_recall_curve, auc\n",
    "\n",
    "def train_and_evaluate(embeddings_train_np, labels_train_np, embeddings_val_np, labels_val_np):\n",
    "    # Entrenar el modelo de regresión logística\n",
    "    model = make_pipeline(StandardScaler(), LogisticRegression(max_iter=1000, random_state=42))\n",
    "    model.fit(embeddings_train_np, labels_train_np)\n",
    "\n",
    "    # Predicciones en el conjunto de validación\n",
    "    predictions = model.predict(embeddings_val_np)\n",
    "    predictions_proba = model.predict_proba(embeddings_val_np)[:, 1]\n",
    "\n",
    "    # Calcular la exactitud\n",
    "    accuracy = accuracy_score(labels_val_np, predictions)\n",
    "    auc_roc = roc_auc_score(labels_val_np, predictions_proba)\n",
    "    precisions, recalls, _ = precision_recall_curve(labels_val_np, predictions_proba)\n",
    "    auc_pr = auc(recalls, precisions)\n",
    "\n",
    "    return accuracy, auc_roc, auc_pr\n",
    "\n",
    "percentages = [0.2, 0.4, 0.6, 0.8]\n",
    "metrics = {p: {'accuracy': [], 'auc_roc': [], 'auc_pr': []} for p in percentages}\n",
    "\n",
    "for i in range(5):\n",
    "    # Cargar embeddings y etiquetas de entrenamiento\n",
    "    embeddings_train = torch.load(f'/data/ProstateContrastiveSPD/embeddings/fold_{i+1}/train/embeddings_train.pt')\n",
    "    labels_train = torch.load(f'/data/ProstateContrastiveSPD/embeddings/fold_{i+1}/train/labels_train.pt')\n",
    "\n",
    "    # Cargar embeddings y etiquetas de validación\n",
    "    embeddings_val = torch.load(f'/data/ProstateContrastiveSPD/embeddings/fold_{i+1}/val/embeddings_val.pt')\n",
    "    labels_val = torch.load(f'/data/ProstateContrastiveSPD/embeddings/fold_{i+1}/val/labels_val.pt')\n",
    "\n",
    "    # Convertir a numpy arrays\n",
    "    embeddings_train_np = embeddings_train.cpu().numpy()\n",
    "    labels_train_np = labels_train.cpu().numpy()\n",
    "\n",
    "    embeddings_val_np = embeddings_val.cpu().numpy()\n",
    "    labels_val_np = labels_val.cpu().numpy()\n",
    "\n",
    "    # Entrenar y evaluar para cada porcentaje\n",
    "    for p in percentages:\n",
    "        n_samples = int(len(embeddings_train_np) * p)\n",
    "        selected_indices = np.random.choice(len(embeddings_train_np), n_samples, replace=False)\n",
    "\n",
    "        embeddings_subset = embeddings_train_np[selected_indices]\n",
    "        labels_subset = labels_train_np[selected_indices]\n",
    "\n",
    "        accuracy, auc_roc, auc_pr = train_and_evaluate(embeddings_subset, labels_subset, embeddings_val_np, labels_val_np)\n",
    "\n",
    "        metrics[p]['accuracy'].append(accuracy)\n",
    "        metrics[p]['auc_roc'].append(auc_roc)\n",
    "        metrics[p]['auc_pr'].append(auc_pr)\n",
    "\n",
    "# Calcular y mostrar promedios y desviaciones estándar\n",
    "for p in percentages:\n",
    "    print(f\"\\nPorcentaje de entrenamiento: {int(p*100)}%\")\n",
    "    print(f\"Promedio de AUC-ROC: {np.mean(metrics[p]['auc_roc']):.4f}\")\n",
    "    print(f\"Desviación estándar de AUC-ROC: {np.std(metrics[p]['auc_roc']):.4f}\")\n",
    "    print(f\"Promedio de Accuracy: {np.mean(metrics[p]['accuracy']):.4f}\")\n",
    "    print(f\"Desviación estándar de Accuracy: {np.std(metrics[p]['accuracy']):.4f}\")\n",
    "    print(f\"Promedio de AUC-PR: {np.mean(metrics[p]['auc_pr']):.4f}\")\n",
    "    print(f\"Desviación estándar de AUC-PR: {np.std(metrics[p]['auc_pr']):.4f}\")\n"
   ]
  },
  {
   "cell_type": "markdown",
   "metadata": {},
   "source": [
    "# SVM"
   ]
  },
  {
   "cell_type": "code",
   "execution_count": 14,
   "metadata": {},
   "outputs": [
    {
     "name": "stderr",
     "output_type": "stream",
     "text": [
      "/opt/conda/lib/python3.10/site-packages/sklearn/utils/validation.py:1339: DataConversionWarning: A column-vector y was passed when a 1d array was expected. Please change the shape of y to (n_samples, ), for example using ravel().\n",
      "  y = column_or_1d(y, warn=True)\n"
     ]
    },
    {
     "name": "stdout",
     "output_type": "stream",
     "text": [
      "Accuracy: 0.9077\n",
      "AUC-ROC: 0.9146\n",
      "AUC-PR: 0.8234\n"
     ]
    },
    {
     "name": "stderr",
     "output_type": "stream",
     "text": [
      "/opt/conda/lib/python3.10/site-packages/sklearn/utils/validation.py:1339: DataConversionWarning: A column-vector y was passed when a 1d array was expected. Please change the shape of y to (n_samples, ), for example using ravel().\n",
      "  y = column_or_1d(y, warn=True)\n"
     ]
    },
    {
     "name": "stdout",
     "output_type": "stream",
     "text": [
      "Accuracy: 0.9242\n",
      "AUC-ROC: 0.9127\n",
      "AUC-PR: 0.8195\n"
     ]
    },
    {
     "name": "stderr",
     "output_type": "stream",
     "text": [
      "/opt/conda/lib/python3.10/site-packages/sklearn/utils/validation.py:1339: DataConversionWarning: A column-vector y was passed when a 1d array was expected. Please change the shape of y to (n_samples, ), for example using ravel().\n",
      "  y = column_or_1d(y, warn=True)\n"
     ]
    },
    {
     "name": "stdout",
     "output_type": "stream",
     "text": [
      "Accuracy: 0.9134\n",
      "AUC-ROC: 0.9085\n",
      "AUC-PR: 0.7733\n"
     ]
    },
    {
     "name": "stderr",
     "output_type": "stream",
     "text": [
      "/opt/conda/lib/python3.10/site-packages/sklearn/utils/validation.py:1339: DataConversionWarning: A column-vector y was passed when a 1d array was expected. Please change the shape of y to (n_samples, ), for example using ravel().\n",
      "  y = column_or_1d(y, warn=True)\n"
     ]
    },
    {
     "name": "stdout",
     "output_type": "stream",
     "text": [
      "Accuracy: 0.9094\n",
      "AUC-ROC: 0.9501\n",
      "AUC-PR: 0.8529\n"
     ]
    },
    {
     "name": "stderr",
     "output_type": "stream",
     "text": [
      "/opt/conda/lib/python3.10/site-packages/sklearn/utils/validation.py:1339: DataConversionWarning: A column-vector y was passed when a 1d array was expected. Please change the shape of y to (n_samples, ), for example using ravel().\n",
      "  y = column_or_1d(y, warn=True)\n"
     ]
    },
    {
     "name": "stdout",
     "output_type": "stream",
     "text": [
      "Accuracy: 0.9286\n",
      "AUC-ROC: 0.9510\n",
      "AUC-PR: 0.8731\n",
      "Promedio de AUC-ROC: 0.9273877483909668\n",
      "Desviación de AUC-ROC: 0.019038727771807738\n",
      "\n",
      "Promedio de Accuracy: 0.9166651899083931\n",
      "Desviación de Accuracy: 0.008279257096420918\n",
      "\n",
      "Promedio de AUC-PR: 0.8284379196775014\n",
      "Desviación de AUC-PR: 0.03388785960418474\n"
     ]
    }
   ],
   "source": [
    "import torch\n",
    "import numpy as np\n",
    "from sklearn.svm import SVC\n",
    "from sklearn.preprocessing import StandardScaler\n",
    "from sklearn.pipeline import make_pipeline\n",
    "from sklearn.metrics import accuracy_score, roc_auc_score, average_precision_score\n",
    "\n",
    "array_auc = []\n",
    "array_accuracy = []\n",
    "array_auc_pr = []\n",
    "\n",
    "for i in range(5):\n",
    "    # Cargar embeddings y etiquetas de entrenamiento\n",
    "    embeddings_train = torch.load(f'/data/ProstateContrastiveSPD/embeddingsTriplet/fold_{i+1}/train/embeddings_train.pt')\n",
    "    labels_train = torch.load(f'/data/ProstateContrastiveSPD/embeddingsTriplet/fold_{i+1}/train/labels_train.pt')\n",
    "\n",
    "    # Cargar embeddings y etiquetas de validación\n",
    "    embeddings_val = torch.load(f'/data/ProstateContrastiveSPD/embeddingsTriplet/fold_{i+1}/val/embeddings_val.pt')\n",
    "    labels_val = torch.load(f'/data/ProstateContrastiveSPD/embeddingsTriplet/fold_{i+1}/val/labels_val.pt')\n",
    "\n",
    "    # Convertir a numpy arrays\n",
    "    embeddings_train_np = embeddings_train.cpu().numpy()\n",
    "    labels_train_np = labels_train.cpu().numpy()\n",
    "\n",
    "    embeddings_val_np = embeddings_val.cpu().numpy()\n",
    "    labels_val_np = labels_val.cpu().numpy()\n",
    "\n",
    "    # Entrenar el modelo de SVM\n",
    "    model = make_pipeline(StandardScaler(), SVC(probability=True, random_state=42))\n",
    "    model.fit(embeddings_train_np, labels_train_np)\n",
    "\n",
    "    # Predicciones en el conjunto de validación\n",
    "    predictions = model.predict(embeddings_val_np)\n",
    "    predictions_proba = model.predict_proba(embeddings_val_np)[:, 1]\n",
    "\n",
    "    # Calcular la exactitud\n",
    "    accuracy = accuracy_score(labels_val_np, predictions)\n",
    "    print(f'Accuracy: {accuracy:.4f}')\n",
    "    array_accuracy.append(accuracy)\n",
    "\n",
    "    # Calcular el AUC-ROC\n",
    "    auc_roc = roc_auc_score(labels_val_np, predictions_proba)\n",
    "    print(f'AUC-ROC: {auc_roc:.4f}')\n",
    "    array_auc.append(auc_roc)\n",
    "\n",
    "    # Calcular el AUC-PR\n",
    "    auc_pr = average_precision_score(labels_val_np, predictions_proba)\n",
    "    print(f'AUC-PR: {auc_pr:.4f}')\n",
    "    array_auc_pr.append(auc_pr)\n",
    "\n",
    "print(f\"Promedio de AUC-ROC: {np.mean(array_auc)}\")\n",
    "print(f\"Desviación de AUC-ROC: {np.std(array_auc)}\")\n",
    "print(\"\")\n",
    "print(f\"Promedio de Accuracy: {np.mean(array_accuracy)}\")\n",
    "print(f\"Desviación de Accuracy: {np.std(array_accuracy)}\")\n",
    "print(\"\")\n",
    "print(f\"Promedio de AUC-PR: {np.mean(array_auc_pr)}\")\n",
    "print(f\"Desviación de AUC-PR: {np.std(array_auc_pr)}\")\n"
   ]
  },
  {
   "cell_type": "code",
   "execution_count": 1,
   "metadata": {},
   "outputs": [
    {
     "name": "stdout",
     "output_type": "stream",
     "text": [
      "1\n"
     ]
    }
   ],
   "source": []
  }
 ],
 "metadata": {
  "kernelspec": {
   "display_name": "base",
   "language": "python",
   "name": "python3"
  },
  "language_info": {
   "codemirror_mode": {
    "name": "ipython",
    "version": 3
   },
   "file_extension": ".py",
   "mimetype": "text/x-python",
   "name": "python",
   "nbconvert_exporter": "python",
   "pygments_lexer": "ipython3",
   "version": "3.10.9"
  }
 },
 "nbformat": 4,
 "nbformat_minor": 2
}
