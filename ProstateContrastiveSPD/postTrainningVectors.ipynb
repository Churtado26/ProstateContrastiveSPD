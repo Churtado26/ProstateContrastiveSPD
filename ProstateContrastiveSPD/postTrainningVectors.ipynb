{
 "cells": [
  {
   "cell_type": "code",
   "execution_count": 1,
   "metadata": {},
   "outputs": [
    {
     "name": "stderr",
     "output_type": "stream",
     "text": [
      "/opt/conda/lib/python3.10/site-packages/torch/cuda/__init__.py:107: UserWarning: CUDA initialization: Unexpected error from cudaGetDeviceCount(). Did you run some cuda functions before calling NumCudaDevices() that might have already set an error? Error 101: invalid device ordinal (Triggered internally at /opt/conda/conda-bld/pytorch_1678411187366/work/c10/cuda/CUDAFunctions.cpp:109.)\n",
      "  return torch._C._cuda_getDeviceCount() > 0\n"
     ]
    }
   ],
   "source": [
    "import torch\n",
    "import os\n",
    "import numpy as np\n",
    "import matplotlib.pyplot as plt\n",
    "import torch.nn as nn\n",
    "import torch.optim as optim\n",
    "import json\n",
    "\n",
    "\n",
    "\n",
    "from sklearn.linear_model import LogisticRegression\n",
    "from sklearn.preprocessing import StandardScaler\n",
    "from sklearn.pipeline import make_pipeline\n",
    "from sklearn.metrics import accuracy_score, roc_auc_score, precision_score, recall_score\n",
    "from sklearn.manifold import TSNE\n",
    "from torch.utils.data import DataLoader, TensorDataset\n",
    "from sklearn.metrics import accuracy_score, roc_auc_score, f1_score\n",
    "from spdnetwork.optimizers import  MixOptimizer \n",
    "from spdnetwork.nn import LogEig\n",
    "from Utils import get_fold_of_data\n",
    "from DatasetManagement import DatasetManagement\n",
    "from Models import   Contrastive_CB3\n",
    "\n",
    "device = 'cuda' if torch.cuda.is_available() else 'cpu'\n",
    "\n",
    "%load_ext autoreload\n",
    "%autoreload 2"
   ]
  },
  {
   "cell_type": "code",
   "execution_count": 1,
   "metadata": {},
   "outputs": [
    {
     "data": {
      "text/plain": [
       "24"
      ]
     },
     "execution_count": 1,
     "metadata": {},
     "output_type": "execute_result"
    }
   ],
   "source": [
    "96 // 4"
   ]
  },
  {
   "cell_type": "code",
   "execution_count": 2,
   "metadata": {},
   "outputs": [],
   "source": [
    "\n",
    "\n",
    "\n",
    "\n",
    "'''\n",
    "\n",
    "\n",
    "'''\n",
    "\n",
    "def generate_vectors(info_run): \n",
    "    \n",
    "    target_shape = info_run['target_shape']\n",
    "    sequence_embedding_features = info_run['sequence_embedding_features']\n",
    "    weights_path = info_run['weights_path']\n",
    "\n",
    "    model = Contrastive_CB3(device, target_shape, sequence_embedding_features, 'contrastive')\n",
    "    model.load_state_dict(torch.load(weights_path, map_location=torch.device('cpu')))\n",
    "    \n",
    "    \n",
    "    # ===================================================================================================\n",
    "    \n",
    "    \n",
    "    #LOAD DATA\n",
    "    data_loader = info_run['data']\n",
    "    \n",
    "    # ===================================================================================================    \n",
    "    #OBTENER TODAS LAS ACTIVACIONES DE UN FOWARD PASS\n",
    "\n",
    "    def get_activation(name):\n",
    "        def hook(model, input, output):\n",
    "            activations[name] = output\n",
    "        return hook\n",
    "\n",
    "    activations = {}\n",
    "    all_activations_t2 = []\n",
    "    all_activations_adc = []\n",
    "    all_activations_bval = []\n",
    "    all_labels = [] \n",
    "\n",
    "    # Registro el hook en la capa 17\n",
    "    model.t2_conv_branch[17].register_forward_hook(get_activation('t2_conv_branch'))\n",
    "    model.adc_conv_branch[17].register_forward_hook(get_activation('adc_conv_branch'))\n",
    "    model.bval_conv_branch[17].register_forward_hook(get_activation('bval_conv_branch'))\n",
    "\n",
    "    model.eval()\n",
    "    model.to(device)\n",
    "\n",
    "    with torch.no_grad():\n",
    "        for i, data in enumerate(data_loader, 0):\n",
    "            inputs, labels = data\n",
    "            for j in range(len(inputs)):\n",
    "                inputs[j] = inputs[j].to(device).type(torch.float)\n",
    "            labels = labels.to(device)\n",
    "            \n",
    "            outputs = model(inputs)\n",
    "            \n",
    "            all_labels.append(labels)\n",
    "            \n",
    "            all_activations_t2.append(activations['t2_conv_branch'])\n",
    "            all_activations_adc.append(activations['adc_conv_branch'])\n",
    "            all_activations_bval.append(activations['bval_conv_branch'])\n",
    "            \n",
    "\n",
    "    concatenated_activations = []\n",
    "\n",
    "    for t2_act, adc_act, bval_act in zip(all_activations_t2, all_activations_adc, all_activations_bval):\n",
    "        concatenated = torch.cat([t2_act, adc_act, bval_act], dim=1)\n",
    "        concatenated_activations.append(concatenated)\n",
    "        \n",
    "    #print(concatenated_activations[7].shape) # torch.Size([28, 96, 6, 8, 8])\n",
    "    print(len(concatenated_activations)) # 8\n",
    "\n",
    "\n",
    "    all_labels_tensor = torch.cat(all_labels, dim=0)\n",
    "            \n",
    "    print(all_labels_tensor.shape)  # Debería imprimir el tamaño total de todos los labels\n",
    "\n",
    "    # ===================================================================================================    \n",
    "\n",
    "\n",
    "    #GENERAR LAS MATRICES SPD'S\n",
    "    def get_spd(acts, type=\"gramm\"):\n",
    "        \n",
    "        vect_acts = acts\n",
    "        # h, w, d = acts.shape\n",
    "        # vect_acts = acts.reshape(h * w, d)\n",
    "        if type == \"gramm\":\n",
    "            spd = vect_acts.T @ vect_acts\n",
    "        elif type == \"corr\":\n",
    "            spd = np.corrcoef(vect_acts.T)\n",
    "        elif type == \"cov\":\n",
    "            spd = np.cov(vect_acts.T)\n",
    "        return spd\n",
    "\n",
    "    all_spds = []\n",
    "\n",
    "    # Recorro los 8 lotes de 32\n",
    "    for batch in concatenated_activations:  # batch = [32, 96, 6, 8, 8]\n",
    "        batch_size, channels, depth, height, width = batch.shape\n",
    "        \n",
    "        # Iterar sobre cada muestra en el lote\n",
    "        for i in range(batch_size):\n",
    "            sample = batch[i]  # sample = [96, 6, 8, 8]\n",
    "            #print(f\"Sample shape: {sample.shape}\")\n",
    "            \n",
    "            sample_reshape = sample.permute(1, 2, 3, 0).reshape(-1, channels) # sample_reshape = torch.Size([384, 96])\n",
    "            # print(sample_reshape.shape)\n",
    "            \n",
    "            activation_np = sample_reshape.cpu().numpy()\n",
    "            \n",
    "            spd_matrix = get_spd(activation_np, type=\"gramm\")\n",
    "            \n",
    "            all_spds.append(spd_matrix)\n",
    "                      \n",
    "\n",
    "\n",
    "    all_spds_tensor = torch.tensor(all_spds)\n",
    "    print(all_spds_tensor.shape)\n",
    "    print(all_spds_tensor[0].shape)\n",
    "    \n",
    "    # ===================================================================================================    \n",
    "\n",
    "    #MAPEAR AL PLANO TANGENTE\n",
    "    # Función para obtener las matrices SPD reconstruidas\n",
    "\n",
    "    num_spds, x, y = all_spds_tensor.shape\n",
    "\n",
    "    reconstructed_spds = torch.zeros(num_spds, x, y)\n",
    "\n",
    "    for i in range(num_spds):\n",
    "        spd = all_spds_tensor[i]\n",
    "        eigenvalues, eigenvectors = torch.linalg.eigh(spd)\n",
    "        \n",
    "        epsilon = 1e-5\n",
    "        log_eigenvalues = torch.log(eigenvalues.clamp(min=epsilon))\n",
    "        \n",
    "        reconstructed_spd = eigenvectors @ torch.diag(log_eigenvalues) @ eigenvectors.T\n",
    "        \n",
    "        reconstructed_spds[i] = reconstructed_spd\n",
    "        \n",
    "\n",
    "\n",
    "    reconstructed_spds.shape  #reconstructed_spds = torch.Size([252, 96, 96])\n",
    "    \n",
    "    \n",
    "    # ===================================================================================================    \n",
    "\n",
    "\n",
    "    n_samples, _, _ = reconstructed_spds.shape\n",
    "    \n",
    "    upper_triangular_flat = []\n",
    "    \n",
    "    for i in range(n_samples):\n",
    "        spd = reconstructed_spds[i]\n",
    "        \n",
    "        upper_triangular = torch.masked_select(torch.triu(spd, diagonal=1), torch.triu(torch.ones_like(spd), diagonal=1).bool())\n",
    "        \n",
    "        upper_triangular_flat.append(upper_triangular)\n",
    "    \n",
    "    upper_triangular_flat_tensor = torch.stack(upper_triangular_flat)\n",
    "    \n",
    "\n",
    "#upper_triangular_flat_tensor.shape#upper_triangular_flat = [252, 4560]\n",
    "\n",
    "    \n",
    "    \n",
    "    embbedings = upper_triangular_flat_tensor\n",
    "    final_labels = all_labels_tensor\n",
    "    \n",
    "    \n",
    "    \n",
    "    return embbedings, final_labels\n",
    "\n",
    "\n",
    "    \n",
    "\n"
   ]
  },
  {
   "cell_type": "code",
   "execution_count": 29,
   "metadata": {},
   "outputs": [
    {
     "name": "stdout",
     "output_type": "stream",
     "text": [
      "-------Cargando los datos del JSON revuelto con el 80.0 % en el fold 1-------\n",
      "0.8\n",
      "X_train shape: (828, 3, 12, 32, 32)\n",
      "Y_train shape: (828,)\n",
      "X_val shape: (260, 3, 12, 32, 32)\n",
      "Y_val shape: (260,)\n",
      "26\n",
      "torch.Size([828, 1])\n",
      "torch.Size([828, 96, 96])\n",
      "torch.Size([96, 96])\n",
      "Embeddings train shapetorch.Size([828, 4560])\n",
      "Labels train shapetorch.Size([828, 1])\n",
      "Embeddings guardados en: /data/Embeddings80%/embeddingsTriplet/fold_1/train/embeddings_train.pt\n",
      "Labels guardados en: /data/Embeddings80%/embeddingsTriplet/fold_1/train/labels_train.pt\n",
      "9\n",
      "torch.Size([260, 1])\n",
      "torch.Size([260, 96, 96])\n",
      "torch.Size([96, 96])\n",
      "Embeddings guardados en: /data/Embeddings80%/embeddingsTriplet/fold_1/val/embeddings_val.pt\n",
      "Labels guardados en: /data/Embeddings80%/embeddingsTriplet/fold_1/val/labels_val.pt\n",
      "-------Cargando los datos del JSON revuelto con el 80.0 % en el fold 2-------\n",
      "0.8\n",
      "X_train shape: (824, 3, 12, 32, 32)\n",
      "Y_train shape: (824,)\n",
      "X_val shape: (264, 3, 12, 32, 32)\n",
      "Y_val shape: (264,)\n",
      "26\n",
      "torch.Size([824, 1])\n",
      "torch.Size([824, 96, 96])\n",
      "torch.Size([96, 96])\n",
      "Embeddings train shapetorch.Size([824, 4560])\n",
      "Labels train shapetorch.Size([824, 1])\n",
      "Embeddings guardados en: /data/Embeddings80%/embeddingsTriplet/fold_2/train/embeddings_train.pt\n",
      "Labels guardados en: /data/Embeddings80%/embeddingsTriplet/fold_2/train/labels_train.pt\n",
      "9\n",
      "torch.Size([264, 1])\n",
      "torch.Size([264, 96, 96])\n",
      "torch.Size([96, 96])\n",
      "Embeddings guardados en: /data/Embeddings80%/embeddingsTriplet/fold_2/val/embeddings_val.pt\n",
      "Labels guardados en: /data/Embeddings80%/embeddingsTriplet/fold_2/val/labels_val.pt\n",
      "-------Cargando los datos del JSON revuelto con el 80.0 % en el fold 3-------\n",
      "0.8\n",
      "X_train shape: (832, 3, 12, 32, 32)\n",
      "Y_train shape: (832,)\n",
      "X_val shape: (254, 3, 12, 32, 32)\n",
      "Y_val shape: (254,)\n",
      "26\n",
      "torch.Size([832, 1])\n",
      "torch.Size([832, 96, 96])\n",
      "torch.Size([96, 96])\n",
      "Embeddings train shapetorch.Size([832, 4560])\n",
      "Labels train shapetorch.Size([832, 1])\n",
      "Embeddings guardados en: /data/Embeddings80%/embeddingsTriplet/fold_3/train/embeddings_train.pt\n",
      "Labels guardados en: /data/Embeddings80%/embeddingsTriplet/fold_3/train/labels_train.pt\n",
      "8\n",
      "torch.Size([254, 1])\n",
      "torch.Size([254, 96, 96])\n",
      "torch.Size([96, 96])\n",
      "Embeddings guardados en: /data/Embeddings80%/embeddingsTriplet/fold_3/val/embeddings_val.pt\n",
      "Labels guardados en: /data/Embeddings80%/embeddingsTriplet/fold_3/val/labels_val.pt\n",
      "-------Cargando los datos del JSON revuelto con el 80.0 % en el fold 4-------\n",
      "0.8\n",
      "X_train shape: (824, 3, 12, 32, 32)\n",
      "Y_train shape: (824,)\n",
      "X_val shape: (265, 3, 12, 32, 32)\n",
      "Y_val shape: (265,)\n",
      "26\n",
      "torch.Size([824, 1])\n",
      "torch.Size([824, 96, 96])\n",
      "torch.Size([96, 96])\n",
      "Embeddings train shapetorch.Size([824, 4560])\n",
      "Labels train shapetorch.Size([824, 1])\n",
      "Embeddings guardados en: /data/Embeddings80%/embeddingsTriplet/fold_4/train/embeddings_train.pt\n",
      "Labels guardados en: /data/Embeddings80%/embeddingsTriplet/fold_4/train/labels_train.pt\n",
      "9\n",
      "torch.Size([265, 1])\n",
      "torch.Size([265, 96, 96])\n",
      "torch.Size([96, 96])\n",
      "Embeddings guardados en: /data/Embeddings80%/embeddingsTriplet/fold_4/val/embeddings_val.pt\n",
      "Labels guardados en: /data/Embeddings80%/embeddingsTriplet/fold_4/val/labels_val.pt\n",
      "-------Cargando los datos del JSON revuelto con el 80.0 % en el fold 5-------\n",
      "0.8\n",
      "X_train shape: (834, 3, 12, 32, 32)\n",
      "Y_train shape: (834,)\n",
      "X_val shape: (252, 3, 12, 32, 32)\n",
      "Y_val shape: (252,)\n",
      "27\n",
      "torch.Size([834, 1])\n",
      "torch.Size([834, 96, 96])\n",
      "torch.Size([96, 96])\n",
      "Embeddings train shapetorch.Size([834, 4560])\n",
      "Labels train shapetorch.Size([834, 1])\n",
      "Embeddings guardados en: /data/Embeddings80%/embeddingsTriplet/fold_5/train/embeddings_train.pt\n",
      "Labels guardados en: /data/Embeddings80%/embeddingsTriplet/fold_5/train/labels_train.pt\n",
      "8\n",
      "torch.Size([252, 1])\n",
      "torch.Size([252, 96, 96])\n",
      "torch.Size([96, 96])\n",
      "Embeddings guardados en: /data/Embeddings80%/embeddingsTriplet/fold_5/val/embeddings_val.pt\n",
      "Labels guardados en: /data/Embeddings80%/embeddingsTriplet/fold_5/val/labels_val.pt\n"
     ]
    }
   ],
   "source": [
    "    #RUN\n",
    "        \n",
    "    #DEFINO LOS DATOS\n",
    "for k in range(5):\n",
    "    \n",
    "    \n",
    "        x_train, x_validation ,y_train, y_validation, ids_train, ids_val, indexdes = get_fold_of_data(k, 0.80) #CAMBIAR\n",
    "        \n",
    "        print(f\"X_train shape: {x_train.shape}\")\n",
    "        print(f\"Y_train shape: {y_train.shape}\")\n",
    "        print(f\"X_val shape: {x_validation.shape}\")\n",
    "        print(f\"Y_val shape: {y_validation.shape}\")\n",
    "\n",
    "        val_data = DatasetManagement(x_validation, y_validation)\n",
    "        train_data = DatasetManagement(x_train, y_train)\n",
    "\n",
    "        val_loader = torch.utils.data.DataLoader(\n",
    "            dataset = val_data,\n",
    "            shuffle = False,\n",
    "            batch_size = 32,\n",
    "            pin_memory=False\n",
    "        )\n",
    "\n",
    "        train_loader = torch.utils.data.DataLoader(\n",
    "            dataset = train_data,\n",
    "            shuffle = False,\n",
    "            batch_size = 32,\n",
    "            pin_memory=False\n",
    "        )\n",
    "\n",
    "        #DEFINO EL DICCIONARIO PARA CORRER\n",
    "        #=================================TRAIN=================================\n",
    "\n",
    "        info_run = {\n",
    "            'target_shape': (12, 32, 32),\n",
    "            'sequence_embedding_features': 18432,\n",
    "            'weights_path' : f'/data/ExperimentsPercentTRIPLETBaseline/Experiments_with_80.0%/models/mertash_contrastive_fold_{k+1}.pt',\n",
    "            'data' : train_loader,\n",
    "                    \n",
    "            }\n",
    "\n",
    "        embeddings_train, labels_train = generate_vectors(info_run)\n",
    "\n",
    "        print(f\"Embeddings train shape{embeddings_train.shape}\")\n",
    "        print(f\"Labels train shape{labels_train.shape}\")\n",
    "\n",
    "        destination_path_train = f\"/data/Embeddings80%/embeddingsTriplet/fold_{k+1}/train\" #CAMBIAR\n",
    "        os.makedirs(destination_path_train, exist_ok=True)\n",
    "\n",
    "        # Nombres de archivo para guardar\n",
    "        embeddings_file = os.path.join(destination_path_train, \"embeddings_train.pt\")\n",
    "        labels_file = os.path.join(destination_path_train, \"labels_train.pt\")\n",
    "\n",
    "        # Guardar los tensores de embeddings y labels\n",
    "        torch.save(embeddings_train, embeddings_file)\n",
    "        torch.save(labels_train, labels_file)\n",
    "\n",
    "        print(f\"Embeddings guardados en: {embeddings_file}\")\n",
    "        print(f\"Labels guardados en: {labels_file}\")\n",
    "\n",
    "\n",
    "\n",
    "\n",
    "\n",
    "        # =================================VALIDATION=================================\n",
    "        info_run = {\n",
    "            'target_shape': (12, 32, 32),\n",
    "            'sequence_embedding_features': 18432,\n",
    "            'weights_path' : f'/data/ExperimentsPercentTRIPLETBaseline/Experiments_with_80.0%/models/mertash_contrastive_fold_{k+1}.pt',\n",
    "            'data' : val_loader,\n",
    "                    \n",
    "            }\n",
    "\n",
    "        embeddings_val, labels_val = generate_vectors(info_run)\n",
    "\n",
    "        destination_path_val = f\"/data/Embeddings80%/embeddingsTriplet/fold_{k+1}/val\" #CAMBIAR\n",
    "        os.makedirs(destination_path_val, exist_ok=True)\n",
    "\n",
    "        # Nombres de archivo para guardar\n",
    "        embeddings_file = os.path.join(destination_path_val, \"embeddings_val.pt\")\n",
    "        labels_file = os.path.join(destination_path_val, \"labels_val.pt\")\n",
    "\n",
    "        # Guardar los tensores de embeddings y labels\n",
    "        torch.save(embeddings_val, embeddings_file)\n",
    "        torch.save(labels_val, labels_file)\n",
    "\n",
    "        print(f\"Embeddings guardados en: {embeddings_file}\")\n",
    "        print(f\"Labels guardados en: {labels_file}\")\n",
    "\n",
    "\n",
    "\n"
   ]
  },
  {
   "cell_type": "code",
   "execution_count": 38,
   "metadata": {},
   "outputs": [
    {
     "name": "stdout",
     "output_type": "stream",
     "text": [
      "torch.Size([834, 4560])\n",
      "torch.Size([834, 1])\n",
      "\n",
      "torch.Size([252, 4560])\n",
      "torch.Size([252, 1])\n"
     ]
    }
   ],
   "source": [
    "i=5\n",
    "\n",
    "\n",
    "train_embeddings_path = f'/data/Embeddings80%/embeddingsTriplet/fold_{i}/train/embeddings_train.pt'\n",
    "train_labels_path = f'/data/Embeddings80%/embeddingsTriplet/fold_{i}/train/labels_train.pt'\n",
    "\n",
    "train_embeddings = torch.load(train_embeddings_path)\n",
    "train_labels = torch.load(train_labels_path)\n",
    "\n",
    "val_embeddings_path = f'/data/Embeddings80%/embeddingsTriplet/fold_{i}/val/embeddings_val.pt'\n",
    "val_labels_path = f'/data/Embeddings80%/embeddingsTriplet/fold_{i}/val/labels_val.pt'\n",
    "\n",
    "val_embeddings = torch.load(val_embeddings_path)\n",
    "val_labels = torch.load(val_labels_path)\n",
    "\n",
    "\n",
    "\n",
    "print(train_embeddings.shape)\n",
    "print(train_labels.shape)\n",
    "print('')\n",
    "print(val_embeddings.shape)\n",
    "print(val_labels.shape)\n",
    "\n"
   ]
  },
  {
   "cell_type": "code",
   "execution_count": 1,
   "metadata": {},
   "outputs": [
    {
     "name": "stdout",
     "output_type": "stream",
     "text": [
      "1295\n",
      "1295\n",
      "1295\n",
      "1295\n",
      "1295\n"
     ]
    }
   ],
   "source": [
    "import json\n",
    "fold_indexes = open('/data/picai_folds_indexes.json', 'r')\n",
    "indexdes = json.load(fold_indexes)\n",
    "\n",
    "#Imprimir el tamanńo de los datos de validación y entrenamiento por fold\n",
    "for i in range(5):\n",
    "    print(len(indexdes[f'Fold_{i}_train']) + len(indexdes[f'Fold_{i}_val']))\n",
    "    # print(len(indexdes[f'Fold_{i}_val']))\n",
    "\n",
    "\n",
    "# array = []\n",
    "\n",
    "# for i in range (5):\n",
    "#     array.append(len(indexdes[f'Fold_{i}_val']))\n",
    "    \n",
    "# print(np.sum(array))"
   ]
  },
  {
   "cell_type": "code",
   "execution_count": 4,
   "metadata": {},
   "outputs": [
    {
     "data": {
      "text/plain": [
       "1035"
      ]
     },
     "execution_count": 4,
     "metadata": {},
     "output_type": "execute_result"
    }
   ],
   "source": [
    "import json\n",
    "fold_indexes = open('/data/picai_folds_indexes.json', 'r')\n",
    "indexdes = json.load(fold_indexes)\n",
    "\n",
    "len(indexdes['Fold_0_train'])"
   ]
  },
  {
   "cell_type": "markdown",
   "metadata": {},
   "source": [
    "# Logistic Regression"
   ]
  },
  {
   "cell_type": "code",
   "execution_count": 43,
   "metadata": {},
   "outputs": [
    {
     "name": "stderr",
     "output_type": "stream",
     "text": [
      "/opt/conda/lib/python3.10/site-packages/sklearn/utils/validation.py:1339: DataConversionWarning: A column-vector y was passed when a 1d array was expected. Please change the shape of y to (n_samples, ), for example using ravel().\n",
      "  y = column_or_1d(y, warn=True)\n"
     ]
    },
    {
     "name": "stdout",
     "output_type": "stream",
     "text": [
      "Accuracy: 0.9077\n",
      "AUC-ROC: 0.8849\n",
      "AUC-PR: 0.7924\n"
     ]
    },
    {
     "name": "stderr",
     "output_type": "stream",
     "text": [
      "/opt/conda/lib/python3.10/site-packages/sklearn/utils/validation.py:1339: DataConversionWarning: A column-vector y was passed when a 1d array was expected. Please change the shape of y to (n_samples, ), for example using ravel().\n",
      "  y = column_or_1d(y, warn=True)\n"
     ]
    },
    {
     "name": "stdout",
     "output_type": "stream",
     "text": [
      "Accuracy: 0.9205\n",
      "AUC-ROC: 0.9046\n",
      "AUC-PR: 0.8178\n"
     ]
    },
    {
     "name": "stderr",
     "output_type": "stream",
     "text": [
      "/opt/conda/lib/python3.10/site-packages/sklearn/utils/validation.py:1339: DataConversionWarning: A column-vector y was passed when a 1d array was expected. Please change the shape of y to (n_samples, ), for example using ravel().\n",
      "  y = column_or_1d(y, warn=True)\n"
     ]
    },
    {
     "name": "stdout",
     "output_type": "stream",
     "text": [
      "Accuracy: 0.9213\n",
      "AUC-ROC: 0.9373\n",
      "AUC-PR: 0.8129\n"
     ]
    },
    {
     "name": "stderr",
     "output_type": "stream",
     "text": [
      "/opt/conda/lib/python3.10/site-packages/sklearn/utils/validation.py:1339: DataConversionWarning: A column-vector y was passed when a 1d array was expected. Please change the shape of y to (n_samples, ), for example using ravel().\n",
      "  y = column_or_1d(y, warn=True)\n"
     ]
    },
    {
     "name": "stdout",
     "output_type": "stream",
     "text": [
      "Accuracy: 0.9170\n",
      "AUC-ROC: 0.9013\n",
      "AUC-PR: 0.7925\n"
     ]
    },
    {
     "name": "stderr",
     "output_type": "stream",
     "text": [
      "/opt/conda/lib/python3.10/site-packages/sklearn/utils/validation.py:1339: DataConversionWarning: A column-vector y was passed when a 1d array was expected. Please change the shape of y to (n_samples, ), for example using ravel().\n",
      "  y = column_or_1d(y, warn=True)\n"
     ]
    },
    {
     "name": "stdout",
     "output_type": "stream",
     "text": [
      "Accuracy: 0.9127\n",
      "AUC-ROC: 0.9312\n",
      "AUC-PR: 0.8076\n",
      "Promedio de AUC-ROC: 0.9118438368053112\n",
      "Desviación de AUC-ROC: 0.019545317235410302\n",
      "\n",
      "Promedio de Accuracy: 0.9158172480880845\n",
      "Desviación de Accuracy: 0.0050640453704674975\n",
      "\n",
      "Promedio de AUC-PR: 0.8046268951211847\n",
      "Desviación de AUC-PR: 0.010469080045039356\n"
     ]
    }
   ],
   "source": [
    "import torch\n",
    "import numpy as np\n",
    "from sklearn.linear_model import LogisticRegression\n",
    "from sklearn.preprocessing import StandardScaler\n",
    "from sklearn.pipeline import make_pipeline\n",
    "from sklearn.metrics import accuracy_score, roc_auc_score, precision_recall_curve, auc\n",
    "\n",
    "array_auc = []\n",
    "array_accuracy = []\n",
    "array_auc_pr = []\n",
    "\n",
    "for i in range(5):\n",
    "    # Cargar embeddings y etiquetas de entrenamiento\n",
    "    embeddings_train = torch.load(f'/data/Embeddings100%/embeddings/fold_{i+1}/train/embeddings_train.pt')\n",
    "    labels_train = torch.load(f'/data/Embeddings100%/embeddings/fold_{i+1}/train/labels_train.pt')\n",
    "\n",
    "    # Cargar embeddings y etiquetas de validación\n",
    "    embeddings_val = torch.load(f'/data/Embeddings100%/embeddings/fold_{i+1}/val/embeddings_val.pt')\n",
    "    labels_val = torch.load(f'/data/Embeddings100%/embeddings/fold_{i+1}/val/labels_val.pt')\n",
    "\n",
    "    # Convertir a numpy arrays\n",
    "    embeddings_train_np = embeddings_train.cpu().numpy()\n",
    "    labels_train_np = labels_train.cpu().numpy()\n",
    "\n",
    "    embeddings_val_np = embeddings_val.cpu().numpy()\n",
    "    labels_val_np = labels_val.cpu().numpy()\n",
    "\n",
    "    # Entrenar el modelo de regresión logística\n",
    "    model = make_pipeline(StandardScaler(), LogisticRegression(max_iter=1000, random_state=42))\n",
    "    model.fit(embeddings_train_np, labels_train_np)\n",
    "\n",
    "    # Predicciones en el conjunto de validación\n",
    "    predictions = model.predict(embeddings_val_np)\n",
    "    predictions_proba = model.predict_proba(embeddings_val_np)[:, 1]\n",
    "\n",
    "    # Calcular la exactitud\n",
    "    accuracy = accuracy_score(labels_val_np, predictions)\n",
    "    print(f'Accuracy: {accuracy:.4f}')\n",
    "    array_accuracy.append(accuracy)\n",
    "\n",
    "    # Calcular el AUC-ROC\n",
    "    auc_roc = roc_auc_score(labels_val_np, predictions_proba)\n",
    "    print(f'AUC-ROC: {auc_roc:.4f}')\n",
    "    array_auc.append(auc_roc)\n",
    "\n",
    "    # Calcular el AUC-PR\n",
    "    precisions, recalls, _  = precision_recall_curve(labels_val_np, predictions_proba)\n",
    "    auc_pr = auc(recalls, precisions)\n",
    "    print(f'AUC-PR: {auc_pr:.4f}')\n",
    "    \n",
    "    array_auc_pr.append(auc_pr)\n",
    "\n",
    "print(f\"Promedio de AUC-ROC: {np.mean(array_auc)}\")\n",
    "print(f\"Desviación de AUC-ROC: {np.std(array_auc)}\")\n",
    "print(\"\")\n",
    "print(f\"Promedio de Accuracy: {np.mean(array_accuracy)}\")\n",
    "print(f\"Desviación de Accuracy: {np.std(array_accuracy)}\")\n",
    "print(\"\")\n",
    "print(f\"Promedio de AUC-PR: {np.mean(array_auc_pr)}\")\n",
    "print(f\"Desviación de AUC-PR: {np.std(array_auc_pr)}\")\n"
   ]
  },
  {
   "cell_type": "markdown",
   "metadata": {},
   "source": [
    "# SVM"
   ]
  },
  {
   "cell_type": "code",
   "execution_count": 1,
   "metadata": {},
   "outputs": [
    {
     "name": "stderr",
     "output_type": "stream",
     "text": [
      "/opt/conda/lib/python3.10/site-packages/sklearn/utils/validation.py:1339: DataConversionWarning: A column-vector y was passed when a 1d array was expected. Please change the shape of y to (n_samples, ), for example using ravel().\n",
      "  y = column_or_1d(y, warn=True)\n"
     ]
    },
    {
     "name": "stdout",
     "output_type": "stream",
     "text": [
      "Accuracy: 0.9038\n",
      "AUC-ROC: 0.8807\n",
      "AUC-PR: 0.7786\n"
     ]
    },
    {
     "name": "stderr",
     "output_type": "stream",
     "text": [
      "/opt/conda/lib/python3.10/site-packages/sklearn/utils/validation.py:1339: DataConversionWarning: A column-vector y was passed when a 1d array was expected. Please change the shape of y to (n_samples, ), for example using ravel().\n",
      "  y = column_or_1d(y, warn=True)\n"
     ]
    },
    {
     "name": "stdout",
     "output_type": "stream",
     "text": [
      "Accuracy: 0.9318\n",
      "AUC-ROC: 0.9006\n",
      "AUC-PR: 0.8388\n"
     ]
    },
    {
     "name": "stderr",
     "output_type": "stream",
     "text": [
      "/opt/conda/lib/python3.10/site-packages/sklearn/utils/validation.py:1339: DataConversionWarning: A column-vector y was passed when a 1d array was expected. Please change the shape of y to (n_samples, ), for example using ravel().\n",
      "  y = column_or_1d(y, warn=True)\n"
     ]
    },
    {
     "name": "stdout",
     "output_type": "stream",
     "text": [
      "Accuracy: 0.9055\n",
      "AUC-ROC: 0.9215\n",
      "AUC-PR: 0.7942\n"
     ]
    },
    {
     "name": "stderr",
     "output_type": "stream",
     "text": [
      "/opt/conda/lib/python3.10/site-packages/sklearn/utils/validation.py:1339: DataConversionWarning: A column-vector y was passed when a 1d array was expected. Please change the shape of y to (n_samples, ), for example using ravel().\n",
      "  y = column_or_1d(y, warn=True)\n"
     ]
    },
    {
     "name": "stdout",
     "output_type": "stream",
     "text": [
      "Accuracy: 0.9019\n",
      "AUC-ROC: 0.9491\n",
      "AUC-PR: 0.8519\n"
     ]
    },
    {
     "name": "stderr",
     "output_type": "stream",
     "text": [
      "/opt/conda/lib/python3.10/site-packages/sklearn/utils/validation.py:1339: DataConversionWarning: A column-vector y was passed when a 1d array was expected. Please change the shape of y to (n_samples, ), for example using ravel().\n",
      "  y = column_or_1d(y, warn=True)\n"
     ]
    },
    {
     "name": "stdout",
     "output_type": "stream",
     "text": [
      "Accuracy: 0.8929\n",
      "AUC-ROC: 0.9385\n",
      "AUC-PR: 0.8319\n",
      "Promedio de AUC-ROC: 0.9180610938482205\n",
      "Desviación de AUC-ROC: 0.024880892452682973\n",
      "\n",
      "Promedio de Accuracy: 0.9071840163995862\n",
      "Desviación de Accuracy: 0.013069809410691389\n",
      "\n",
      "Promedio de AUC-PR: 0.8190740193510881\n",
      "Desviación de AUC-PR: 0.027856818562675127\n"
     ]
    }
   ],
   "source": [
    "import torch\n",
    "import numpy as np\n",
    "from sklearn.svm import SVC\n",
    "from sklearn.preprocessing import StandardScaler\n",
    "from sklearn.pipeline import make_pipeline\n",
    "from sklearn.metrics import accuracy_score, roc_auc_score, average_precision_score\n",
    "\n",
    "array_auc = []\n",
    "array_accuracy = []\n",
    "array_auc_pr = []\n",
    "\n",
    "for i in range(5):\n",
    "    # Cargar embeddings y etiquetas de entrenamiento\n",
    "    embeddings_train = torch.load(f'/data/Embeddings80%/embeddingsTriplet/fold_{i+1}/train/embeddings_train.pt')\n",
    "    labels_train = torch.load(f'/data/Embeddings80%/embeddingsTriplet/fold_{i+1}/train/labels_train.pt')\n",
    "\n",
    "    # Cargar embeddings y etiquetas de validación\n",
    "    embeddings_val = torch.load(f'/data/Embeddings80%/embeddingsTriplet/fold_{i+1}/val/embeddings_val.pt')\n",
    "    labels_val = torch.load(f'/data/Embeddings80%/embeddingsTriplet/fold_{i+1}/val/labels_val.pt')\n",
    "\n",
    "    # Convertir a numpy arrays\n",
    "    embeddings_train_np = embeddings_train.cpu().numpy()\n",
    "    labels_train_np = labels_train.cpu().numpy()\n",
    "\n",
    "    embeddings_val_np = embeddings_val.cpu().numpy()\n",
    "    labels_val_np = labels_val.cpu().numpy()\n",
    "\n",
    "    # Entrenar el modelo de SVM\n",
    "    # model = make_pipeline(StandardScaler(), SVC(probability=True, random_state=42))\n",
    "    model = make_pipeline(\n",
    "    StandardScaler(), \n",
    "    SVC(kernel='rbf', probability=True, random_state=42)\n",
    ")\n",
    "    model.fit(embeddings_train_np, labels_train_np)\n",
    "\n",
    "    # Predicciones en el conjunto de validación\n",
    "    predictions = model.predict(embeddings_val_np)\n",
    "    predictions_proba = model.predict_proba(embeddings_val_np)[:, 1]\n",
    "\n",
    "    # Calcular la exactitud\n",
    "    accuracy = accuracy_score(labels_val_np, predictions)\n",
    "    print(f'Accuracy: {accuracy:.4f}')\n",
    "    array_accuracy.append(accuracy)\n",
    "\n",
    "    # Calcular el AUC-ROC\n",
    "    auc_roc = roc_auc_score(labels_val_np, predictions_proba)\n",
    "    print(f'AUC-ROC: {auc_roc:.4f}')\n",
    "    array_auc.append(auc_roc)\n",
    "\n",
    "    # Calcular el AUC-PR\n",
    "    auc_pr = average_precision_score(labels_val_np, predictions_proba)\n",
    "    print(f'AUC-PR: {auc_pr:.4f}')\n",
    "    array_auc_pr.append(auc_pr)\n",
    "\n",
    "print(f\"Promedio de AUC-ROC: {np.mean(array_auc)}\")\n",
    "print(f\"Desviación de AUC-ROC: {np.std(array_auc)}\")\n",
    "print(\"\")\n",
    "print(f\"Promedio de Accuracy: {np.mean(array_accuracy)}\")\n",
    "print(f\"Desviación de Accuracy: {np.std(array_accuracy)}\")\n",
    "print(\"\")\n",
    "print(f\"Promedio de AUC-PR: {np.mean(array_auc_pr)}\")\n",
    "print(f\"Desviación de AUC-PR: {np.std(array_auc_pr)}\")\n"
   ]
  },
  {
   "cell_type": "code",
   "execution_count": 1,
   "metadata": {},
   "outputs": [
    {
     "name": "stdout",
     "output_type": "stream",
     "text": [
      "1\n"
     ]
    }
   ],
   "source": []
  }
 ],
 "metadata": {
  "kernelspec": {
   "display_name": "base",
   "language": "python",
   "name": "python3"
  },
  "language_info": {
   "codemirror_mode": {
    "name": "ipython",
    "version": 3
   },
   "file_extension": ".py",
   "mimetype": "text/x-python",
   "name": "python",
   "nbconvert_exporter": "python",
   "pygments_lexer": "ipython3",
   "version": "3.10.9"
  }
 },
 "nbformat": 4,
 "nbformat_minor": 2
}
