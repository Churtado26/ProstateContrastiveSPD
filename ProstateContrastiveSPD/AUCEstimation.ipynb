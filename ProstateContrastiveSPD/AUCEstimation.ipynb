{
 "cells": [
  {
   "cell_type": "code",
   "execution_count": 5,
   "id": "996db1b0",
   "metadata": {},
   "outputs": [],
   "source": [
    "import pandas as pd\n",
    "import numpy as np\n",
    "import os\n",
    "import matplotlib.pyplot as plt\n",
    "\n"
   ]
  },
  {
   "cell_type": "code",
   "execution_count": 38,
   "id": "75df7bde",
   "metadata": {},
   "outputs": [],
   "source": [
    "def get_cross_entropy_results(window_size, network, strategy, optimizer_name = 'Adam_lr_2e-06'):\n",
    "    from sklearn.metrics import roc_auc_score\n",
    "    percentages = [0.2, 0.4, 0.6, 0.8, 1.0]\n",
    "    general_auc_knn = []\n",
    "    general_auc_svm = []\n",
    "    general_auc_rf = []\n",
    "    general_auc_top = []\n",
    "    general_auc_all = []\n",
    "    general_std_knn = []\n",
    "    general_std_svm = []\n",
    "    general_std_rf = []\n",
    "    general_std_top = []\n",
    "    general_std_all = []\n",
    "    for percentage in percentages:\n",
    "        base_path = '/home/yesid08/Baselines/Experiments/clasical_learning/{}/{}/{}/{}/{}/{}/results'.format(\n",
    "            window_size,\n",
    "            'cross_entropy',\n",
    "            optimizer_name,\n",
    "            network,\n",
    "            strategy,\n",
    "            percentage\n",
    "        )\n",
    "        aucs_knn = []\n",
    "        aucs_svm = []\n",
    "        aucs_rf = []\n",
    "        aucs_top = []\n",
    "        aucs_all = []\n",
    "        \n",
    "        for fold in range(1,6):\n",
    "            kfold_csv = pd.read_csv(base_path+'/kfold_results_{}.csv'.format(fold))\n",
    "            kfold_csv = kfold_csv[kfold_csv['folds']== 'test']\n",
    "            aucs_top.append( roc_auc_score(kfold_csv['labels'], kfold_csv['probs']) )\n",
    "        general_auc_top.append( np.mean(aucs_top) )\n",
    "        general_std_top.append( np.std(aucs_top) )\n",
    "\n",
    "    result = {\n",
    "        'top': {\n",
    "            'auc_std': general_std_top,\n",
    "            'auc_mean': general_auc_top\n",
    "        },\n",
    "\n",
    "    }\n",
    "    return result"
   ]
  },
  {
   "cell_type": "code",
   "execution_count": 39,
   "id": "bae14005",
   "metadata": {},
   "outputs": [],
   "source": [
    "def get_contrastive_results(window_size, contrastive_loss, network, strategy, optimizer_name = 'RMSprop_mom_0.6_lr_1e-06'):\n",
    "    from sklearn.metrics import roc_auc_score\n",
    "    percentages = [0.2, 0.4, 0.6, 0.8, 1.0]\n",
    "    general_auc_knn = []\n",
    "    general_auc_svm = []\n",
    "    general_auc_rf = []\n",
    "    general_auc_top = []\n",
    "    general_auc_all = []\n",
    "    general_std_knn = []\n",
    "    general_std_svm = []\n",
    "    general_std_rf = []\n",
    "    general_std_top = []\n",
    "    general_std_all = []\n",
    "    for percentage in percentages:\n",
    "        base_path = '/home/yesid08/Experiments/contrastive_learning/{}/{}/{}/{}/{}/{}/results'.format(\n",
    "            window_size,\n",
    "            contrastive_loss,\n",
    "            optimizer_name,\n",
    "            network,\n",
    "            strategy,\n",
    "            percentage\n",
    "        )\n",
    "        aucs_knn = []\n",
    "        aucs_svm = []\n",
    "        aucs_rf = []\n",
    "        aucs_top = []\n",
    "        aucs_all = []\n",
    "        \n",
    "        for fold in range(1,6):\n",
    "            kfold_csv = pd.read_csv(base_path+'/kfold_results_{}.csv'.format(fold))\n",
    "            kfold_csv = kfold_csv[kfold_csv['folds']== 'test']\n",
    "            aucs_top.append( roc_auc_score(kfold_csv['labels'], kfold_csv['svm_probs']) )\n",
    "        general_auc_top.append( np.mean(aucs_top) )\n",
    "        general_std_top.append( np.std(aucs_top) )\n",
    "\n",
    "    result = {\n",
    "        'top': {\n",
    "            'auc_std': general_std_top,\n",
    "            'auc_mean': general_auc_top\n",
    "        },\n",
    "\n",
    "    }\n",
    "    return result"
   ]
  },
  {
   "cell_type": "code",
   "execution_count": 40,
   "id": "a1336d0a",
   "metadata": {},
   "outputs": [],
   "source": [
    "\n",
    "strategy = 'reduce_negatives'\n",
    "window_size = '12_32_32'\n",
    "model = 'mertash512'\n",
    "contrastive_loss = 'NTXentLoss_T_0.07'\n",
    "baseline_1 = get_contrastive_results(window_size, contrastive_loss, model, strategy)\n",
    "contrastive_loss = 'TripletLoss_ts_ephn_m_0.05'\n",
    "baseline_2 = get_contrastive_results(window_size, contrastive_loss, model, strategy)\n",
    "contrastive_loss = 'NTXentLoss_T_0.07'\n",
    "model='mertash1024'\n",
    "baseline_3 = get_contrastive_results(window_size, contrastive_loss, model, strategy)"
   ]
  },
  {
   "cell_type": "code",
   "execution_count": 46,
   "id": "6d90c1f4",
   "metadata": {},
   "outputs": [
    {
     "data": {
      "text/plain": [
       "<matplotlib.legend.Legend at 0x7f877ef5d750>"
      ]
     },
     "execution_count": 46,
     "metadata": {},
     "output_type": "execute_result"
    },
    {
     "data": {
      "image/png": "[encoded data removed]",
      "text/plain": [
       "<Figure size 432x288 with 1 Axes>"
      ]
     },
     "metadata": {
      "needs_background": "light"
     },
     "output_type": "display_data"
    }
   ],
   "source": [
    "percentages = ['20', '40', '60', '80', '100']\n",
    "indexes = np.arange(len(percentages))\n",
    "classifier = 'top'\n",
    "color = 'green'\n",
    "plt.plot(baseline_1[classifier]['auc_mean'], \n",
    "         label='NTXentLoss_T_0.07', color=color, alpha=0.8, linestyle='--')\n",
    "plt.errorbar(indexes, baseline_1[classifier]['auc_mean'],\n",
    "             yerr=baseline_1[classifier]['auc_std'],\n",
    "             fmt='o', color = color, alpha=0.4, ecolor=color, elinewidth=5, capsize=5)\n",
    "\n",
    "color = 'blue'\n",
    "plt.plot(baseline_2[classifier]['auc_mean'], \n",
    "         label='TripletLoss_ts_ephn_m_0.05', color=color, alpha=0.8, linestyle='--')\n",
    "plt.errorbar(indexes, baseline_2[classifier]['auc_mean'],\n",
    "             yerr=baseline_2[classifier]['auc_std'],\n",
    "             fmt='o', color = color, alpha=0.4, ecolor=color, elinewidth=5, capsize=5)\n",
    "\n",
    "\n",
    "color = 'orange'\n",
    "plt.plot(baseline_3[classifier]['auc_mean'], \n",
    "         label='mertash1024-NTXentLoss_T_0.07', color=color, alpha=0.8, linestyle='--')\n",
    "plt.errorbar(indexes, baseline_3[classifier]['auc_mean'],\n",
    "             yerr=baseline_3[classifier]['auc_std'],\n",
    "             fmt='o', color = color, alpha=0.4, ecolor=color, elinewidth=5, capsize=5)\n",
    "\n",
    "plt.xlabel('Dataset %')\n",
    "plt.ylabel('AUC Performance')\n",
    "plt.ylim([0.35, 0.91])\n",
    "plt.xticks(indexes, percentages, rotation=90)\n",
    "plt.legend(loc='best')"
   ]
  },
  {
   "cell_type": "code",
   "execution_count": 42,
   "id": "2b68aeb9",
   "metadata": {},
   "outputs": [
    {
     "data": {
      "text/plain": [
       "{'top': {'auc_std': [0.21235904867830696,\n",
       "   0.08495133247270983,\n",
       "   0.05933004672545309,\n",
       "   0.06860777409788678,\n",
       "   0.04859017962053191],\n",
       "  'auc_mean': [0.5863833333333334,\n",
       "   0.6907333333333334,\n",
       "   0.6986166666666668,\n",
       "   0.7437000000000001,\n",
       "   0.7289166666666667]}}"
      ]
     },
     "execution_count": 42,
     "metadata": {},
     "output_type": "execute_result"
    }
   ],
   "source": [
    "baseline_1"
   ]
  },
  {
   "cell_type": "code",
   "execution_count": 49,
   "id": "ffe1d291",
   "metadata": {},
   "outputs": [],
   "source": [
    "strategy = 'reduce_positives'\n",
    "window_size = '12_32_32'\n",
    "model = 'mertash512'\n",
    "contrastive_loss = 'NTXentLoss_T_0.07'\n",
    "baseline_1 = get_contrastive_results(window_size, contrastive_loss, model, strategy)\n",
    "contrastive_loss = 'TripletLoss_ts_ephn_m_0.05'\n",
    "baseline_2 = get_contrastive_results(window_size, contrastive_loss, model, strategy)\n",
    "contrastive_loss = 'NTXentLoss_T_0.07'\n",
    "model='mertash1024'\n",
    "#baseline_3 = get_contrastive_results(window_size, contrastive_loss, model, strategy)"
   ]
  },
  {
   "cell_type": "code",
   "execution_count": 50,
   "id": "eca113ac",
   "metadata": {},
   "outputs": [
    {
     "data": {
      "text/plain": [
       "<matplotlib.legend.Legend at 0x7f877eebe350>"
      ]
     },
     "execution_count": 50,
     "metadata": {},
     "output_type": "execute_result"
    },
    {
     "data": {
      "image/png": "[encoded data removed]",
      "text/plain": [
       "<Figure size 432x288 with 1 Axes>"
      ]
     },
     "metadata": {
      "needs_background": "light"
     },
     "output_type": "display_data"
    }
   ],
   "source": [
    "percentages = ['20', '40', '60', '80', '100']\n",
    "indexes = np.arange(len(percentages))\n",
    "classifier = 'top'\n",
    "color = 'green'\n",
    "plt.plot(baseline_1[classifier]['auc_mean'], \n",
    "         label='NTXentLoss_T_0.07', color=color, alpha=0.8, linestyle='--')\n",
    "plt.errorbar(indexes, baseline_1[classifier]['auc_mean'],\n",
    "             yerr=baseline_1[classifier]['auc_std'],\n",
    "             fmt='o', color = color, alpha=0.4, ecolor=color, elinewidth=5, capsize=5)\n",
    "\n",
    "color = 'blue'\n",
    "plt.plot(baseline_2[classifier]['auc_mean'], \n",
    "         label='TripletLoss_ts_ephn_m_0.05', color=color, alpha=0.8, linestyle='--')\n",
    "plt.errorbar(indexes, baseline_2[classifier]['auc_mean'],\n",
    "             yerr=baseline_2[classifier]['auc_std'],\n",
    "             fmt='o', color = color, alpha=0.4, ecolor=color, elinewidth=5, capsize=5)\n",
    "\n",
    "\n",
    "color = 'orange'\n",
    "plt.plot(baseline_3[classifier]['auc_mean'], \n",
    "         label='mertash1024-NTXentLoss_T_0.07', color=color, alpha=0.8, linestyle='--')\n",
    "plt.errorbar(indexes, baseline_3[classifier]['auc_mean'],\n",
    "             yerr=baseline_3[classifier]['auc_std'],\n",
    "             fmt='o', color = color, alpha=0.4, ecolor=color, elinewidth=5, capsize=5)\n",
    "\n",
    "plt.xlabel('Dataset %')\n",
    "plt.ylabel('AUC Performance')\n",
    "plt.ylim([0.35, 0.91])\n",
    "plt.xticks(indexes, percentages, rotation=90)\n",
    "plt.legend(loc='best')"
   ]
  },
  {
   "cell_type": "code",
   "execution_count": 48,
   "id": "730d8c9e",
   "metadata": {},
   "outputs": [
    {
     "data": {
      "text/plain": [
       "{'top': {'auc_std': [0.08508933867151368,\n",
       "   0.06729903416840394,\n",
       "   0.09968653648088867,\n",
       "   0.07652961663449144,\n",
       "   0.04859017962053191],\n",
       "  'auc_mean': [0.7272666666666667,\n",
       "   0.6886333333333334,\n",
       "   0.7184166666666667,\n",
       "   0.7401333333333333,\n",
       "   0.7289166666666667]}}"
      ]
     },
     "execution_count": 48,
     "metadata": {},
     "output_type": "execute_result"
    }
   ],
   "source": [
    "baseline_1"
   ]
  },
  {
   "cell_type": "code",
   "execution_count": null,
   "id": "4eb47eba",
   "metadata": {},
   "outputs": [],
   "source": [
    "percentages = ['20', '40', '60', '80', '100']\n",
    "indexes = np.arange(len(percentages))\n",
    "classifier = 'top'\n",
    "color = 'green'\n",
    "plt.plot(baseline_1[classifier]['auc_mean'], \n",
    "         label='NTXentLoss_T_0.07', color=color, alpha=0.8, linestyle='--')\n",
    "plt.errorbar(indexes, baseline_1[classifier]['auc_mean'],\n",
    "             yerr=baseline_1[classifier]['auc_std'],\n",
    "             fmt='o', color = color, alpha=0.4, ecolor=color, elinewidth=5, capsize=5)\n",
    "\n",
    "color = 'blue'\n",
    "plt.plot(baseline_2[classifier]['auc_mean'], \n",
    "         label='TripletLoss_ts_ephn_m_0.05', color=color, alpha=0.8, linestyle='--')\n",
    "plt.errorbar(indexes, baseline_2[classifier]['auc_mean'],\n",
    "             yerr=baseline_2[classifier]['auc_std'],\n",
    "             fmt='o', color = color, alpha=0.4, ecolor=color, elinewidth=5, capsize=5)\n",
    "\n",
    "\n",
    "color = 'orange'\n",
    "plt.plot(baseline_3[classifier]['auc_mean'], \n",
    "         label='mertash1024-NTXentLoss_T_0.07', color=color, alpha=0.8, linestyle='--')\n",
    "plt.errorbar(indexes, baseline_3[classifier]['auc_mean'],\n",
    "             yerr=baseline_3[classifier]['auc_std'],\n",
    "             fmt='o', color = color, alpha=0.4, ecolor=color, elinewidth=5, capsize=5)\n",
    "\n",
    "plt.xlabel('Dataset %')\n",
    "plt.ylabel('AUC Performance')\n",
    "plt.ylim([0.35, 0.91])\n",
    "plt.xticks(indexes, percentages, rotation=90)\n",
    "plt.legend(loc='best')"
   ]
  },
  {
   "cell_type": "code",
   "execution_count": 43,
   "id": "3a1dc2ea",
   "metadata": {},
   "outputs": [],
   "source": [
    "strategy = 'stratified'\n",
    "window_size = '12_32_32'\n",
    "model = 'mertash512'\n",
    "contrastive_loss = 'NTXentLoss_T_0.07'\n",
    "baseline_1 = get_contrastive_results(window_size, contrastive_loss, model, strategy)\n",
    "contrastive_loss = 'TripletLoss_ts_ephn_m_0.05'\n",
    "baseline_2 = get_contrastive_results(window_size, contrastive_loss, model, strategy)\n",
    "contrastive_loss = 'NTXentLoss_T_0.07'\n",
    "model='mertash1024'\n",
    "#baseline_3 = get_contrastive_results(window_size, contrastive_loss, model, strategy)"
   ]
  },
  {
   "cell_type": "code",
   "execution_count": 44,
   "id": "4102c62e",
   "metadata": {},
   "outputs": [
    {
     "data": {
      "text/plain": [
       "<matplotlib.legend.Legend at 0x7f877f04e050>"
      ]
     },
     "execution_count": 44,
     "metadata": {},
     "output_type": "execute_result"
    },
    {
     "data": {
      "image/png": "[encoded data removed]",
      "text/plain": [
       "<Figure size 432x288 with 1 Axes>"
      ]
     },
     "metadata": {
      "needs_background": "light"
     },
     "output_type": "display_data"
    }
   ],
   "source": [
    "percentages = ['20', '40', '60', '80', '100']\n",
    "indexes = np.arange(len(percentages))\n",
    "classifier = 'top'\n",
    "color = 'green'\n",
    "plt.plot(baseline_1[classifier]['auc_mean'], \n",
    "         label='NTXentLoss_T_0.07', color=color, alpha=0.8, linestyle='--')\n",
    "plt.errorbar(indexes, baseline_1[classifier]['auc_mean'],\n",
    "             yerr=baseline_1[classifier]['auc_std'],\n",
    "             fmt='o', color = color, alpha=0.4, ecolor=color, elinewidth=5, capsize=5)\n",
    "\n",
    "color = 'blue'\n",
    "plt.plot(baseline_2[classifier]['auc_mean'], \n",
    "         label='TripletLoss_ts_ephn_m_0.05', color=color, alpha=0.8, linestyle='--')\n",
    "plt.errorbar(indexes, baseline_2[classifier]['auc_mean'],\n",
    "             yerr=baseline_2[classifier]['auc_std'],\n",
    "             fmt='o', color = color, alpha=0.4, ecolor=color, elinewidth=5, capsize=5)\n",
    "\n",
    "plt.xlabel('Dataset %')\n",
    "plt.ylabel('AUC Performance')\n",
    "plt.ylim([0.35, 0.91])\n",
    "plt.xticks(indexes, percentages, rotation=90)\n",
    "plt.legend(loc='best')"
   ]
  },
  {
   "cell_type": "code",
   "execution_count": 45,
   "id": "adc817f4",
   "metadata": {},
   "outputs": [
    {
     "data": {
      "text/plain": [
       "{'top': {'auc_std': [0.13913047832879752,\n",
       "   0.1250859659949464,\n",
       "   0.05325727910603186,\n",
       "   0.07263620156490687,\n",
       "   0.04859017962053191],\n",
       "  'auc_mean': [0.6293500000000001,\n",
       "   0.68905,\n",
       "   0.6948000000000001,\n",
       "   0.7303999999999999,\n",
       "   0.7289166666666667]}}"
      ]
     },
     "execution_count": 45,
     "metadata": {},
     "output_type": "execute_result"
    }
   ],
   "source": [
    "baseline_1"
   ]
  },
  {
   "cell_type": "code",
   "execution_count": null,
   "id": "12c4734a",
   "metadata": {},
   "outputs": [],
   "source": []
  }
 ],
 "metadata": {
  "kernelspec": {
   "display_name": "Python 3 (ipykernel)",
   "language": "python",
   "name": "python3"
  },
  "language_info": {
   "codemirror_mode": {
    "name": "ipython",
    "version": 3
   },
   "file_extension": ".py",
   "mimetype": "text/x-python",
   "name": "python",
   "nbconvert_exporter": "python",
   "pygments_lexer": "ipython3",
   "version": "3.7.11"
  }
 },
 "nbformat": 4,
 "nbformat_minor": 5
}
